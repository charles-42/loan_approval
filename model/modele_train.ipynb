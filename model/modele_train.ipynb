{
 "cells": [
  {
   "cell_type": "markdown",
   "metadata": {},
   "source": [
    "# I Import des données ####################"
   ]
  },
  {
   "cell_type": "code",
   "execution_count": 3,
   "metadata": {},
   "outputs": [],
   "source": [
    "import pandas as pd\n",
    "\n",
    "df = pd.read_csv('SBAnational.csv', low_memory=False)\n",
    "# df = df.sample(n = 10000)\n",
    "# print(df.head())\n",
    "# print(df.info())"
   ]
  },
  {
   "cell_type": "code",
   "execution_count": null,
   "metadata": {},
   "outputs": [],
   "source": [
    "y_train[df.index]"
   ]
  },
  {
   "cell_type": "code",
   "execution_count": 2,
   "metadata": {},
   "outputs": [
    {
     "data": {
      "text/plain": [
       "Int64Index([307221, 683847, 891314, 182617, 132258,  46417, 686399, 173221,\n",
       "             62185, 576154,\n",
       "            ...\n",
       "            748169, 747625, 264420, 481066, 847103, 647967, 536615, 202760,\n",
       "            847116, 753993],\n",
       "           dtype='int64', length=10000)"
      ]
     },
     "execution_count": 2,
     "metadata": {},
     "output_type": "execute_result"
    }
   ],
   "source": [
    "df.index"
   ]
  },
  {
   "cell_type": "markdown",
   "metadata": {},
   "source": [
    "# II Nettoyage des données"
   ]
  },
  {
   "cell_type": "code",
   "execution_count": 4,
   "metadata": {},
   "outputs": [
    {
     "name": "stderr",
     "output_type": "stream",
     "text": [
      "/var/folders/py/4rt338cj1ks4z3332m7l3f880000gp/T/ipykernel_71081/2867805252.py:12: FutureWarning: The default value of regex will change from True to False in a future version. In addition, single character regular expressions will *not* be treated as literal strings when regex=True.\n",
      "  df['GrAppv'] = df['GrAppv'].str.replace('$', '').str.replace(',','').str.strip().astype('float64').astype('int64')\n"
     ]
    }
   ],
   "source": [
    "def cleaning(df):\n",
    "\n",
    "\n",
    "    # Columns Selection\n",
    "    df = df.drop(columns=['Name', 'LoanNr_ChkDgt', 'Bank', \n",
    "                     'BankState', 'DisbursementDate', 'ApprovalDate', \n",
    "                    'ApprovalFY', 'FranchiseCode', 'Zip', 'City', 'ChgOffDate', 'SBA_Appv', 'BalanceGross', 'DisbursementGross', 'ChgOffPrinGr'])\n",
    "    # Deal with NA\n",
    "    df = df.dropna(subset=['MIS_Status']) \n",
    "\n",
    "    # Data formating for training data (outside pipe)\n",
    "    df['GrAppv'] = df['GrAppv'].str.replace('$', '').str.replace(',','').str.strip().astype('float64').astype('int64')    \n",
    "    df['RevLineCr'] = df['RevLineCr'].mask(df.RevLineCr.isin(['0','T','1','R','`','2','C','3',',','7','A','5','.','4','-','Q']))   \n",
    "    df['LowDoc'] = df['LowDoc'].mask(df.LowDoc.isin(['0','C','S','A','R','1'])) \n",
    "    df['NewExist'] = df['NewExist'].replace({2:False, 1:True})   \n",
    "    df['NAICS'] = df['NAICS'].astype('str').apply(lambda x : x[:2])    \n",
    "    return df\n",
    "\n",
    "df = cleaning(df)"
   ]
  },
  {
   "cell_type": "markdown",
   "metadata": {},
   "source": [
    "# III Train / Test / Split"
   ]
  },
  {
   "cell_type": "code",
   "execution_count": 5,
   "metadata": {},
   "outputs": [],
   "source": [
    "from sklearn.model_selection import train_test_split\n",
    "y = df['MIS_Status'].replace({'P I F':0, 'CHGOFF':1}) \n",
    "X = df.drop(['MIS_Status'], axis=1)\n",
    "\n",
    "\n",
    "X_train, X_test, y_train, y_test = train_test_split(X, y, train_size=0.8, shuffle=False,test_size=0.2, random_state=42)\n",
    "\n",
    "# print(df.head())\n",
    "# print(df.info())"
   ]
  },
  {
   "cell_type": "code",
   "execution_count": 6,
   "metadata": {},
   "outputs": [],
   "source": [
    "X_train_sample = X_train.sample(n = 10000)\n",
    "y_train_sample = y_train[X_train_sample.index]"
   ]
  },
  {
   "cell_type": "markdown",
   "metadata": {},
   "source": [
    "# IV Construction du Pipeline"
   ]
  },
  {
   "cell_type": "code",
   "execution_count": 43,
   "metadata": {},
   "outputs": [],
   "source": [
    "# ############### IV.a Numeric features ##############\n",
    "numeric_features = list(X.select_dtypes(include=['int', 'float']).columns)"
   ]
  },
  {
   "cell_type": "code",
   "execution_count": 44,
   "metadata": {},
   "outputs": [
    {
     "data": {
      "text/plain": [
       "<matplotlib.collections.LineCollection at 0x7f9867b81120>"
      ]
     },
     "execution_count": 44,
     "metadata": {},
     "output_type": "execute_result"
    },
    {
     "data": {
      "image/png": "[encoded data removed]",
      "text/plain": [
       "<Figure size 640x480 with 1 Axes>"
      ]
     },
     "metadata": {},
     "output_type": "display_data"
    }
   ],
   "source": [
    "####### Analyse best PCA\n",
    "\n",
    "from sklearn.preprocessing import  StandardScaler\n",
    "import numpy as np\n",
    "std = StandardScaler()\n",
    "X_train_standard = std.fit_transform(X_train[numeric_features])\n",
    "\n",
    "from sklearn.decomposition import PCA\n",
    "# Choisir le nb de composants\n",
    "n_dims = X_train_standard.shape[1]\n",
    "model = PCA(n_components=n_dims)\n",
    "model.fit(X_train_standard)\n",
    "\n",
    "variances = model.explained_variance_ratio_\n",
    "\n",
    "meilleur_dims = np.argmax(np.cumsum(variances) > 0.90)\n",
    "\n",
    "import matplotlib.pyplot as plt\n",
    "plt.bar(range(n_dims), np.cumsum(variances))\n",
    "plt.hlines(0.90, 0, meilleur_dims, colors='r')\n",
    "plt.vlines(meilleur_dims, 0, 0.90, colors='r')"
   ]
  },
  {
   "cell_type": "code",
   "execution_count": 64,
   "metadata": {},
   "outputs": [],
   "source": [
    "from sklearn.pipeline import Pipeline\n",
    "from sklearn.preprocessing import StandardScaler\n",
    "from sklearn.decomposition import PCA\n",
    "\n",
    "numeric_transformer = Pipeline([\n",
    "        ('standard', StandardScaler()),  # Centrer réduire\n",
    "        ('pca', PCA(n_components=5)) # après standardisation\n",
    "        ])\n",
    "\n",
    "\n",
    "# ############### IV.c Categorial features ##############\n",
    "categorial_features = ['RevLineCr', 'LowDoc', 'NewExist', 'NAICS', 'State']\n",
    "\n",
    "from sklearn.preprocessing import OneHotEncoder\n",
    "categorical_transformer = OneHotEncoder(sparse=True)\n",
    "\n",
    "\n",
    "\n",
    "# ############### IV.d Combinaison ##############\n",
    "from sklearn.compose import ColumnTransformer\n",
    "\n",
    "preprocessor = ColumnTransformer(\n",
    "    transformers=[\n",
    "        ('num', numeric_transformer, numeric_features),\n",
    "        ('cat', categorical_transformer, categorial_features)\n",
    "    ],\n",
    "    remainder=\"passthrough\" \n",
    ")\n",
    "\n",
    "\n",
    "############### IV.d Estimator ##############\n",
    "from xgboost import XGBClassifier\n",
    "# xg = XGBClassifier(**(model_fit[\"clf\"].get_params()))\n",
    "xg = XGBClassifier()\n",
    "\n",
    "# ############### IV.d Final_pipe ##############\n",
    "\n",
    "from sklearn.pipeline import Pipeline\n",
    "pipe = Pipeline([\n",
    "     ('preprocessor', preprocessor),\n",
    "     ('clf', xg)\n",
    "])"
   ]
  },
  {
   "cell_type": "code",
   "execution_count": 65,
   "metadata": {},
   "outputs": [],
   "source": [
    "# ############### V.b Cross Validation ##############\n",
    "\n",
    "from sklearn.model_selection import KFold\n",
    "\n",
    "# define evaluation\n",
    "cv = KFold(n_splits=5, random_state=1,shuffle = True)\n",
    "\n",
    "# ############### V.c Hyparameters space setting ##############\n",
    "\n",
    "# import numpy as np\n",
    "\n",
    "positives = sum(y) / len(y)\n",
    "negatives = 1 - positives\n",
    "scale_ratio = negatives / positives\n",
    "\n",
    "space = {'clf__max_depth' : [7,12,15],\n",
    "              'clf__learning_rate' : [0.5],\n",
    "              'clf__gamma' : [1],\n",
    "              'clf__reg_lambda' : [15],\n",
    "              'clf__scale_pos_weight' : [scale_ratio]\n",
    "              }\n",
    "\n",
    "# ############### V.d RandomSearch and GridSearc ##############\n",
    "\n",
    "\n",
    "from sklearn.model_selection import GridSearchCV\n",
    "grid_pipe = GridSearchCV(\n",
    "    pipe,\n",
    "    space,\n",
    "    scoring='roc_auc',\n",
    "    verbose=0,\n",
    "    n_jobs=-1,\n",
    "    cv=cv\n",
    ")\n"
   ]
  },
  {
   "cell_type": "code",
   "execution_count": 66,
   "metadata": {},
   "outputs": [],
   "source": [
    "import mlflow\n",
    "try:\n",
    "    experiment_id = mlflow.get_experiment_by_name(\"loan_analysis\").experiment_id\n",
    "except AttributeError:\n",
    "    experiment_id = mlflow.create_experiment(\"loan_analysis\")\n"
   ]
  },
  {
   "cell_type": "code",
   "execution_count": 68,
   "metadata": {},
   "outputs": [
    {
     "name": "stdout",
     "output_type": "stream",
     "text": [
      "Fitting 5 folds for each of 3 candidates, totalling 15 fits\n"
     ]
    },
    {
     "name": "stderr",
     "output_type": "stream",
     "text": [
      "/usr/local/Caskroom/miniconda/base/envs/machine-learning/lib/python3.10/site-packages/xgboost/sklearn.py:1224: UserWarning: The use of label encoder in XGBClassifier is deprecated and will be removed in a future release. To remove this warning, do the following: 1) Pass option use_label_encoder=False when constructing XGBClassifier object; and 2) Encode your labels (y) as integers starting with 0, i.e. 0, 1, 2, ..., [num_class - 1].\n",
      "  warnings.warn(label_encoder_deprecation_msg, UserWarning)\n",
      "/usr/local/Caskroom/miniconda/base/envs/machine-learning/lib/python3.10/site-packages/xgboost/sklearn.py:1224: UserWarning: The use of label encoder in XGBClassifier is deprecated and will be removed in a future release. To remove this warning, do the following: 1) Pass option use_label_encoder=False when constructing XGBClassifier object; and 2) Encode your labels (y) as integers starting with 0, i.e. 0, 1, 2, ..., [num_class - 1].\n",
      "  warnings.warn(label_encoder_deprecation_msg, UserWarning)\n",
      "/usr/local/Caskroom/miniconda/base/envs/machine-learning/lib/python3.10/site-packages/xgboost/sklearn.py:1224: UserWarning: The use of label encoder in XGBClassifier is deprecated and will be removed in a future release. To remove this warning, do the following: 1) Pass option use_label_encoder=False when constructing XGBClassifier object; and 2) Encode your labels (y) as integers starting with 0, i.e. 0, 1, 2, ..., [num_class - 1].\n",
      "  warnings.warn(label_encoder_deprecation_msg, UserWarning)\n",
      "/usr/local/Caskroom/miniconda/base/envs/machine-learning/lib/python3.10/site-packages/xgboost/sklearn.py:1224: UserWarning: The use of label encoder in XGBClassifier is deprecated and will be removed in a future release. To remove this warning, do the following: 1) Pass option use_label_encoder=False when constructing XGBClassifier object; and 2) Encode your labels (y) as integers starting with 0, i.e. 0, 1, 2, ..., [num_class - 1].\n",
      "  warnings.warn(label_encoder_deprecation_msg, UserWarning)\n"
     ]
    },
    {
     "name": "stdout",
     "output_type": "stream",
     "text": [
      "[11:36:00] WARNING: /var/folders/sy/f16zz6x50xz3113nwtb9bvq00000gp/T/abs_44tbtwf8c1/croots/recipe/xgboost-split_1659548960882/work/src/learner.cc:1115: Starting in XGBoost 1.3.0, the default evaluation metric used with the objective 'binary:logistic' was changed from 'error' to 'logloss'. Explicitly set eval_metric if you'd like to restore the old behavior.\n",
      "[11:36:00] WARNING: /var/folders/sy/f16zz6x50xz3113nwtb9bvq00000gp/T/abs_44tbtwf8c1/croots/recipe/xgboost-split_1659548960882/work/src/learner.cc:1115: Starting in XGBoost 1.3.0, the default evaluation metric used with the objective 'binary:logistic' was changed from 'error' to 'logloss'. Explicitly set eval_metric if you'd like to restore the old behavior.\n",
      "[11:36:00] WARNING: /var/folders/sy/f16zz6x50xz3113nwtb9bvq00000gp/T/abs_44tbtwf8c1/croots/recipe/xgboost-split_1659548960882/work/src/learner.cc:1115: Starting in XGBoost 1.3.0, the default evaluation metric used with the objective 'binary:logistic' was changed from 'error' to 'logloss'. Explicitly set eval_metric if you'd like to restore the old behavior.\n",
      "[11:36:00] WARNING: /var/folders/sy/f16zz6x50xz3113nwtb9bvq00000gp/T/abs_44tbtwf8c1/croots/recipe/xgboost-split_1659548960882/work/src/learner.cc:1115: Starting in XGBoost 1.3.0, the default evaluation metric used with the objective 'binary:logistic' was changed from 'error' to 'logloss'. Explicitly set eval_metric if you'd like to restore the old behavior.\n",
      "[CV] END clf__gamma=1, clf__learning_rate=0.5, clf__max_depth=7, clf__reg_lambda=15, clf__scale_pos_weight=4.546414674819344; total time=  10.1s\n"
     ]
    },
    {
     "name": "stderr",
     "output_type": "stream",
     "text": [
      "/usr/local/Caskroom/miniconda/base/envs/machine-learning/lib/python3.10/site-packages/xgboost/sklearn.py:1224: UserWarning: The use of label encoder in XGBClassifier is deprecated and will be removed in a future release. To remove this warning, do the following: 1) Pass option use_label_encoder=False when constructing XGBClassifier object; and 2) Encode your labels (y) as integers starting with 0, i.e. 0, 1, 2, ..., [num_class - 1].\n",
      "  warnings.warn(label_encoder_deprecation_msg, UserWarning)\n",
      "/usr/local/Caskroom/miniconda/base/envs/machine-learning/lib/python3.10/site-packages/xgboost/sklearn.py:1224: UserWarning: The use of label encoder in XGBClassifier is deprecated and will be removed in a future release. To remove this warning, do the following: 1) Pass option use_label_encoder=False when constructing XGBClassifier object; and 2) Encode your labels (y) as integers starting with 0, i.e. 0, 1, 2, ..., [num_class - 1].\n",
      "  warnings.warn(label_encoder_deprecation_msg, UserWarning)\n"
     ]
    },
    {
     "name": "stdout",
     "output_type": "stream",
     "text": [
      "[CV] END clf__gamma=1, clf__learning_rate=0.5, clf__max_depth=7, clf__reg_lambda=15, clf__scale_pos_weight=4.546414674819344; total time=  10.5s\n",
      "[CV] END clf__gamma=1, clf__learning_rate=0.5, clf__max_depth=7, clf__reg_lambda=15, clf__scale_pos_weight=4.546414674819344; total time=  10.6s\n",
      "[11:36:09] WARNING: /var/folders/sy/f16zz6x50xz3113nwtb9bvq00000gp/T/abs_44tbtwf8c1/croots/recipe/xgboost-split_1659548960882/work/src/learner.cc:1115: Starting in XGBoost 1.3.0, the default evaluation metric used with the objective 'binary:logistic' was changed from 'error' to 'logloss'. Explicitly set eval_metric if you'd like to restore the old behavior.\n"
     ]
    },
    {
     "name": "stderr",
     "output_type": "stream",
     "text": [
      "/usr/local/Caskroom/miniconda/base/envs/machine-learning/lib/python3.10/site-packages/xgboost/sklearn.py:1224: UserWarning: The use of label encoder in XGBClassifier is deprecated and will be removed in a future release. To remove this warning, do the following: 1) Pass option use_label_encoder=False when constructing XGBClassifier object; and 2) Encode your labels (y) as integers starting with 0, i.e. 0, 1, 2, ..., [num_class - 1].\n",
      "  warnings.warn(label_encoder_deprecation_msg, UserWarning)\n"
     ]
    },
    {
     "name": "stdout",
     "output_type": "stream",
     "text": [
      "[CV] END clf__gamma=1, clf__learning_rate=0.5, clf__max_depth=7, clf__reg_lambda=15, clf__scale_pos_weight=4.546414674819344; total time=  12.0s\n"
     ]
    },
    {
     "name": "stderr",
     "output_type": "stream",
     "text": [
      "/usr/local/Caskroom/miniconda/base/envs/machine-learning/lib/python3.10/site-packages/xgboost/sklearn.py:1224: UserWarning: The use of label encoder in XGBClassifier is deprecated and will be removed in a future release. To remove this warning, do the following: 1) Pass option use_label_encoder=False when constructing XGBClassifier object; and 2) Encode your labels (y) as integers starting with 0, i.e. 0, 1, 2, ..., [num_class - 1].\n",
      "  warnings.warn(label_encoder_deprecation_msg, UserWarning)\n"
     ]
    },
    {
     "name": "stdout",
     "output_type": "stream",
     "text": [
      "[11:36:12] WARNING: /var/folders/sy/f16zz6x50xz3113nwtb9bvq00000gp/T/abs_44tbtwf8c1/croots/recipe/xgboost-split_1659548960882/work/src/learner.cc:1115: Starting in XGBoost 1.3.0, the default evaluation metric used with the objective 'binary:logistic' was changed from 'error' to 'logloss'. Explicitly set eval_metric if you'd like to restore the old behavior.\n",
      "[11:36:12] WARNING: /var/folders/sy/f16zz6x50xz3113nwtb9bvq00000gp/T/abs_44tbtwf8c1/croots/recipe/xgboost-split_1659548960882/work/src/learner.cc:1115: Starting in XGBoost 1.3.0, the default evaluation metric used with the objective 'binary:logistic' was changed from 'error' to 'logloss'. Explicitly set eval_metric if you'd like to restore the old behavior.\n",
      "[11:36:12] WARNING: /var/folders/sy/f16zz6x50xz3113nwtb9bvq00000gp/T/abs_44tbtwf8c1/croots/recipe/xgboost-split_1659548960882/work/src/learner.cc:1115: Starting in XGBoost 1.3.0, the default evaluation metric used with the objective 'binary:logistic' was changed from 'error' to 'logloss'. Explicitly set eval_metric if you'd like to restore the old behavior.\n"
     ]
    },
    {
     "name": "stderr",
     "output_type": "stream",
     "text": [
      "/usr/local/Caskroom/miniconda/base/envs/machine-learning/lib/python3.10/site-packages/sklearn/model_selection/_validation.py:776: UserWarning: Scoring failed. The score on this train-test partition for these parameters will be set to nan. Details: \n",
      "Traceback (most recent call last):\n",
      "  File \"/usr/local/Caskroom/miniconda/base/envs/machine-learning/lib/python3.10/site-packages/sklearn/metrics/_scorer.py\", line 358, in _score\n",
      "    y_pred = method_caller(clf, \"decision_function\", X)\n",
      "  File \"/usr/local/Caskroom/miniconda/base/envs/machine-learning/lib/python3.10/site-packages/sklearn/metrics/_scorer.py\", line 71, in _cached_call\n",
      "    return getattr(estimator, method)(*args, **kwargs)\n",
      "  File \"/usr/local/Caskroom/miniconda/base/envs/machine-learning/lib/python3.10/site-packages/sklearn/utils/metaestimators.py\", line 127, in __get__\n",
      "    if not self.check(obj):\n",
      "  File \"/usr/local/Caskroom/miniconda/base/envs/machine-learning/lib/python3.10/site-packages/sklearn/pipeline.py\", line 46, in check\n",
      "    getattr(self._final_estimator, attr)\n",
      "AttributeError: 'XGBClassifier' object has no attribute 'decision_function'\n",
      "\n",
      "During handling of the above exception, another exception occurred:\n",
      "\n",
      "Traceback (most recent call last):\n",
      "  File \"/usr/local/Caskroom/miniconda/base/envs/machine-learning/lib/python3.10/site-packages/sklearn/model_selection/_validation.py\", line 767, in _score\n",
      "    scores = scorer(estimator, X_test, y_test)\n",
      "  File \"/usr/local/Caskroom/miniconda/base/envs/machine-learning/lib/python3.10/site-packages/sklearn/metrics/_scorer.py\", line 219, in __call__\n",
      "    return self._score(\n",
      "  File \"/usr/local/Caskroom/miniconda/base/envs/machine-learning/lib/python3.10/site-packages/sklearn/metrics/_scorer.py\", line 372, in _score\n",
      "    y_pred = method_caller(clf, \"predict_proba\", X)\n",
      "  File \"/usr/local/Caskroom/miniconda/base/envs/machine-learning/lib/python3.10/site-packages/sklearn/metrics/_scorer.py\", line 71, in _cached_call\n",
      "    return getattr(estimator, method)(*args, **kwargs)\n",
      "  File \"/usr/local/Caskroom/miniconda/base/envs/machine-learning/lib/python3.10/site-packages/sklearn/pipeline.py\", line 523, in predict_proba\n",
      "    Xt = transform.transform(Xt)\n",
      "  File \"/usr/local/Caskroom/miniconda/base/envs/machine-learning/lib/python3.10/site-packages/sklearn/compose/_column_transformer.py\", line 763, in transform\n",
      "    Xs = self._fit_transform(\n",
      "  File \"/usr/local/Caskroom/miniconda/base/envs/machine-learning/lib/python3.10/site-packages/sklearn/compose/_column_transformer.py\", line 621, in _fit_transform\n",
      "    return Parallel(n_jobs=self.n_jobs)(\n",
      "  File \"/usr/local/Caskroom/miniconda/base/envs/machine-learning/lib/python3.10/site-packages/joblib/parallel.py\", line 1051, in __call__\n",
      "    while self.dispatch_one_batch(iterator):\n",
      "  File \"/usr/local/Caskroom/miniconda/base/envs/machine-learning/lib/python3.10/site-packages/joblib/parallel.py\", line 864, in dispatch_one_batch\n",
      "    self._dispatch(tasks)\n",
      "  File \"/usr/local/Caskroom/miniconda/base/envs/machine-learning/lib/python3.10/site-packages/joblib/parallel.py\", line 782, in _dispatch\n",
      "    job = self._backend.apply_async(batch, callback=cb)\n",
      "  File \"/usr/local/Caskroom/miniconda/base/envs/machine-learning/lib/python3.10/site-packages/joblib/_parallel_backends.py\", line 208, in apply_async\n",
      "    result = ImmediateResult(func)\n",
      "  File \"/usr/local/Caskroom/miniconda/base/envs/machine-learning/lib/python3.10/site-packages/joblib/_parallel_backends.py\", line 572, in __init__\n",
      "    self.results = batch()\n",
      "  File \"/usr/local/Caskroom/miniconda/base/envs/machine-learning/lib/python3.10/site-packages/joblib/parallel.py\", line 263, in __call__\n",
      "    return [func(*args, **kwargs)\n",
      "  File \"/usr/local/Caskroom/miniconda/base/envs/machine-learning/lib/python3.10/site-packages/joblib/parallel.py\", line 263, in <listcomp>\n",
      "    return [func(*args, **kwargs)\n",
      "  File \"/usr/local/Caskroom/miniconda/base/envs/machine-learning/lib/python3.10/site-packages/sklearn/utils/fixes.py\", line 117, in __call__\n",
      "    return self.function(*args, **kwargs)\n",
      "  File \"/usr/local/Caskroom/miniconda/base/envs/machine-learning/lib/python3.10/site-packages/sklearn/pipeline.py\", line 853, in _transform_one\n",
      "    res = transformer.transform(X)\n",
      "  File \"/usr/local/Caskroom/miniconda/base/envs/machine-learning/lib/python3.10/site-packages/sklearn/preprocessing/_encoders.py\", line 882, in transform\n",
      "    X_int, X_mask = self._transform(\n",
      "  File \"/usr/local/Caskroom/miniconda/base/envs/machine-learning/lib/python3.10/site-packages/sklearn/preprocessing/_encoders.py\", line 160, in _transform\n",
      "    raise ValueError(msg)\n",
      "ValueError: Found unknown categories ['55'] in column 3 during transform\n",
      "\n",
      "  warnings.warn(\n",
      "/usr/local/Caskroom/miniconda/base/envs/machine-learning/lib/python3.10/site-packages/xgboost/sklearn.py:1224: UserWarning: The use of label encoder in XGBClassifier is deprecated and will be removed in a future release. To remove this warning, do the following: 1) Pass option use_label_encoder=False when constructing XGBClassifier object; and 2) Encode your labels (y) as integers starting with 0, i.e. 0, 1, 2, ..., [num_class - 1].\n",
      "  warnings.warn(label_encoder_deprecation_msg, UserWarning)\n"
     ]
    },
    {
     "name": "stdout",
     "output_type": "stream",
     "text": [
      "[CV] END clf__gamma=1, clf__learning_rate=0.5, clf__max_depth=7, clf__reg_lambda=15, clf__scale_pos_weight=4.546414674819344; total time=  11.5s\n",
      "[11:36:21] WARNING: /var/folders/sy/f16zz6x50xz3113nwtb9bvq00000gp/T/abs_44tbtwf8c1/croots/recipe/xgboost-split_1659548960882/work/src/learner.cc:1115: Starting in XGBoost 1.3.0, the default evaluation metric used with the objective 'binary:logistic' was changed from 'error' to 'logloss'. Explicitly set eval_metric if you'd like to restore the old behavior.\n",
      "[CV] END clf__gamma=1, clf__learning_rate=0.5, clf__max_depth=12, clf__reg_lambda=15, clf__scale_pos_weight=4.546414674819344; total time=  16.0s\n"
     ]
    },
    {
     "name": "stderr",
     "output_type": "stream",
     "text": [
      "/usr/local/Caskroom/miniconda/base/envs/machine-learning/lib/python3.10/site-packages/xgboost/sklearn.py:1224: UserWarning: The use of label encoder in XGBClassifier is deprecated and will be removed in a future release. To remove this warning, do the following: 1) Pass option use_label_encoder=False when constructing XGBClassifier object; and 2) Encode your labels (y) as integers starting with 0, i.e. 0, 1, 2, ..., [num_class - 1].\n",
      "  warnings.warn(label_encoder_deprecation_msg, UserWarning)\n"
     ]
    },
    {
     "name": "stdout",
     "output_type": "stream",
     "text": [
      "[CV] END clf__gamma=1, clf__learning_rate=0.5, clf__max_depth=12, clf__reg_lambda=15, clf__scale_pos_weight=4.546414674819344; total time=  16.3s\n",
      "[CV] END clf__gamma=1, clf__learning_rate=0.5, clf__max_depth=12, clf__reg_lambda=15, clf__scale_pos_weight=4.546414674819344; total time=  14.7s\n"
     ]
    },
    {
     "name": "stderr",
     "output_type": "stream",
     "text": [
      "/usr/local/Caskroom/miniconda/base/envs/machine-learning/lib/python3.10/site-packages/xgboost/sklearn.py:1224: UserWarning: The use of label encoder in XGBClassifier is deprecated and will be removed in a future release. To remove this warning, do the following: 1) Pass option use_label_encoder=False when constructing XGBClassifier object; and 2) Encode your labels (y) as integers starting with 0, i.e. 0, 1, 2, ..., [num_class - 1].\n",
      "  warnings.warn(label_encoder_deprecation_msg, UserWarning)\n",
      "/usr/local/Caskroom/miniconda/base/envs/machine-learning/lib/python3.10/site-packages/xgboost/sklearn.py:1224: UserWarning: The use of label encoder in XGBClassifier is deprecated and will be removed in a future release. To remove this warning, do the following: 1) Pass option use_label_encoder=False when constructing XGBClassifier object; and 2) Encode your labels (y) as integers starting with 0, i.e. 0, 1, 2, ..., [num_class - 1].\n",
      "  warnings.warn(label_encoder_deprecation_msg, UserWarning)\n"
     ]
    },
    {
     "name": "stdout",
     "output_type": "stream",
     "text": [
      "[11:36:26] WARNING: /var/folders/sy/f16zz6x50xz3113nwtb9bvq00000gp/T/abs_44tbtwf8c1/croots/recipe/xgboost-split_1659548960882/work/src/learner.cc:1115: Starting in XGBoost 1.3.0, the default evaluation metric used with the objective 'binary:logistic' was changed from 'error' to 'logloss'. Explicitly set eval_metric if you'd like to restore the old behavior.\n",
      "[11:36:26] WARNING: /var/folders/sy/f16zz6x50xz3113nwtb9bvq00000gp/T/abs_44tbtwf8c1/croots/recipe/xgboost-split_1659548960882/work/src/learner.cc:1115: Starting in XGBoost 1.3.0, the default evaluation metric used with the objective 'binary:logistic' was changed from 'error' to 'logloss'. Explicitly set eval_metric if you'd like to restore the old behavior.\n",
      "[11:36:26] WARNING: /var/folders/sy/f16zz6x50xz3113nwtb9bvq00000gp/T/abs_44tbtwf8c1/croots/recipe/xgboost-split_1659548960882/work/src/learner.cc:1115: Starting in XGBoost 1.3.0, the default evaluation metric used with the objective 'binary:logistic' was changed from 'error' to 'logloss'. Explicitly set eval_metric if you'd like to restore the old behavior.\n",
      "[CV] END clf__gamma=1, clf__learning_rate=0.5, clf__max_depth=12, clf__reg_lambda=15, clf__scale_pos_weight=4.546414674819344; total time=  13.3s\n"
     ]
    },
    {
     "name": "stderr",
     "output_type": "stream",
     "text": [
      "/usr/local/Caskroom/miniconda/base/envs/machine-learning/lib/python3.10/site-packages/xgboost/sklearn.py:1224: UserWarning: The use of label encoder in XGBClassifier is deprecated and will be removed in a future release. To remove this warning, do the following: 1) Pass option use_label_encoder=False when constructing XGBClassifier object; and 2) Encode your labels (y) as integers starting with 0, i.e. 0, 1, 2, ..., [num_class - 1].\n",
      "  warnings.warn(label_encoder_deprecation_msg, UserWarning)\n"
     ]
    },
    {
     "name": "stdout",
     "output_type": "stream",
     "text": [
      "[11:36:34] WARNING: /var/folders/sy/f16zz6x50xz3113nwtb9bvq00000gp/T/abs_44tbtwf8c1/croots/recipe/xgboost-split_1659548960882/work/src/learner.cc:1115: Starting in XGBoost 1.3.0, the default evaluation metric used with the objective 'binary:logistic' was changed from 'error' to 'logloss'. Explicitly set eval_metric if you'd like to restore the old behavior.\n"
     ]
    },
    {
     "name": "stderr",
     "output_type": "stream",
     "text": [
      "/usr/local/Caskroom/miniconda/base/envs/machine-learning/lib/python3.10/site-packages/sklearn/model_selection/_validation.py:776: UserWarning: Scoring failed. The score on this train-test partition for these parameters will be set to nan. Details: \n",
      "Traceback (most recent call last):\n",
      "  File \"/usr/local/Caskroom/miniconda/base/envs/machine-learning/lib/python3.10/site-packages/sklearn/metrics/_scorer.py\", line 358, in _score\n",
      "    y_pred = method_caller(clf, \"decision_function\", X)\n",
      "  File \"/usr/local/Caskroom/miniconda/base/envs/machine-learning/lib/python3.10/site-packages/sklearn/metrics/_scorer.py\", line 71, in _cached_call\n",
      "    return getattr(estimator, method)(*args, **kwargs)\n",
      "  File \"/usr/local/Caskroom/miniconda/base/envs/machine-learning/lib/python3.10/site-packages/sklearn/utils/metaestimators.py\", line 127, in __get__\n",
      "    if not self.check(obj):\n",
      "  File \"/usr/local/Caskroom/miniconda/base/envs/machine-learning/lib/python3.10/site-packages/sklearn/pipeline.py\", line 46, in check\n",
      "    getattr(self._final_estimator, attr)\n",
      "AttributeError: 'XGBClassifier' object has no attribute 'decision_function'\n",
      "\n",
      "During handling of the above exception, another exception occurred:\n",
      "\n",
      "Traceback (most recent call last):\n",
      "  File \"/usr/local/Caskroom/miniconda/base/envs/machine-learning/lib/python3.10/site-packages/sklearn/model_selection/_validation.py\", line 767, in _score\n",
      "    scores = scorer(estimator, X_test, y_test)\n",
      "  File \"/usr/local/Caskroom/miniconda/base/envs/machine-learning/lib/python3.10/site-packages/sklearn/metrics/_scorer.py\", line 219, in __call__\n",
      "    return self._score(\n",
      "  File \"/usr/local/Caskroom/miniconda/base/envs/machine-learning/lib/python3.10/site-packages/sklearn/metrics/_scorer.py\", line 372, in _score\n",
      "    y_pred = method_caller(clf, \"predict_proba\", X)\n",
      "  File \"/usr/local/Caskroom/miniconda/base/envs/machine-learning/lib/python3.10/site-packages/sklearn/metrics/_scorer.py\", line 71, in _cached_call\n",
      "    return getattr(estimator, method)(*args, **kwargs)\n",
      "  File \"/usr/local/Caskroom/miniconda/base/envs/machine-learning/lib/python3.10/site-packages/sklearn/pipeline.py\", line 523, in predict_proba\n",
      "    Xt = transform.transform(Xt)\n",
      "  File \"/usr/local/Caskroom/miniconda/base/envs/machine-learning/lib/python3.10/site-packages/sklearn/compose/_column_transformer.py\", line 763, in transform\n",
      "    Xs = self._fit_transform(\n",
      "  File \"/usr/local/Caskroom/miniconda/base/envs/machine-learning/lib/python3.10/site-packages/sklearn/compose/_column_transformer.py\", line 621, in _fit_transform\n",
      "    return Parallel(n_jobs=self.n_jobs)(\n",
      "  File \"/usr/local/Caskroom/miniconda/base/envs/machine-learning/lib/python3.10/site-packages/joblib/parallel.py\", line 1051, in __call__\n",
      "    while self.dispatch_one_batch(iterator):\n",
      "  File \"/usr/local/Caskroom/miniconda/base/envs/machine-learning/lib/python3.10/site-packages/joblib/parallel.py\", line 864, in dispatch_one_batch\n",
      "    self._dispatch(tasks)\n",
      "  File \"/usr/local/Caskroom/miniconda/base/envs/machine-learning/lib/python3.10/site-packages/joblib/parallel.py\", line 782, in _dispatch\n",
      "    job = self._backend.apply_async(batch, callback=cb)\n",
      "  File \"/usr/local/Caskroom/miniconda/base/envs/machine-learning/lib/python3.10/site-packages/joblib/_parallel_backends.py\", line 208, in apply_async\n",
      "    result = ImmediateResult(func)\n",
      "  File \"/usr/local/Caskroom/miniconda/base/envs/machine-learning/lib/python3.10/site-packages/joblib/_parallel_backends.py\", line 572, in __init__\n",
      "    self.results = batch()\n",
      "  File \"/usr/local/Caskroom/miniconda/base/envs/machine-learning/lib/python3.10/site-packages/joblib/parallel.py\", line 263, in __call__\n",
      "    return [func(*args, **kwargs)\n",
      "  File \"/usr/local/Caskroom/miniconda/base/envs/machine-learning/lib/python3.10/site-packages/joblib/parallel.py\", line 263, in <listcomp>\n",
      "    return [func(*args, **kwargs)\n",
      "  File \"/usr/local/Caskroom/miniconda/base/envs/machine-learning/lib/python3.10/site-packages/sklearn/utils/fixes.py\", line 117, in __call__\n",
      "    return self.function(*args, **kwargs)\n",
      "  File \"/usr/local/Caskroom/miniconda/base/envs/machine-learning/lib/python3.10/site-packages/sklearn/pipeline.py\", line 853, in _transform_one\n",
      "    res = transformer.transform(X)\n",
      "  File \"/usr/local/Caskroom/miniconda/base/envs/machine-learning/lib/python3.10/site-packages/sklearn/preprocessing/_encoders.py\", line 882, in transform\n",
      "    X_int, X_mask = self._transform(\n",
      "  File \"/usr/local/Caskroom/miniconda/base/envs/machine-learning/lib/python3.10/site-packages/sklearn/preprocessing/_encoders.py\", line 160, in _transform\n",
      "    raise ValueError(msg)\n",
      "ValueError: Found unknown categories ['55'] in column 3 during transform\n",
      "\n",
      "  warnings.warn(\n",
      "/usr/local/Caskroom/miniconda/base/envs/machine-learning/lib/python3.10/site-packages/xgboost/sklearn.py:1224: UserWarning: The use of label encoder in XGBClassifier is deprecated and will be removed in a future release. To remove this warning, do the following: 1) Pass option use_label_encoder=False when constructing XGBClassifier object; and 2) Encode your labels (y) as integers starting with 0, i.e. 0, 1, 2, ..., [num_class - 1].\n",
      "  warnings.warn(label_encoder_deprecation_msg, UserWarning)\n"
     ]
    },
    {
     "name": "stdout",
     "output_type": "stream",
     "text": [
      "[CV] END clf__gamma=1, clf__learning_rate=0.5, clf__max_depth=12, clf__reg_lambda=15, clf__scale_pos_weight=4.546414674819344; total time=  14.0s\n",
      "[11:36:40] WARNING: /var/folders/sy/f16zz6x50xz3113nwtb9bvq00000gp/T/abs_44tbtwf8c1/croots/recipe/xgboost-split_1659548960882/work/src/learner.cc:1115: Starting in XGBoost 1.3.0, the default evaluation metric used with the objective 'binary:logistic' was changed from 'error' to 'logloss'. Explicitly set eval_metric if you'd like to restore the old behavior.\n",
      "[CV] END clf__gamma=1, clf__learning_rate=0.5, clf__max_depth=15, clf__reg_lambda=15, clf__scale_pos_weight=4.546414674819344; total time=  16.7s\n"
     ]
    },
    {
     "name": "stderr",
     "output_type": "stream",
     "text": [
      "/usr/local/Caskroom/miniconda/base/envs/machine-learning/lib/python3.10/site-packages/xgboost/sklearn.py:1224: UserWarning: The use of label encoder in XGBClassifier is deprecated and will be removed in a future release. To remove this warning, do the following: 1) Pass option use_label_encoder=False when constructing XGBClassifier object; and 2) Encode your labels (y) as integers starting with 0, i.e. 0, 1, 2, ..., [num_class - 1].\n",
      "  warnings.warn(label_encoder_deprecation_msg, UserWarning)\n"
     ]
    },
    {
     "name": "stdout",
     "output_type": "stream",
     "text": [
      "[11:36:43] WARNING: /var/folders/sy/f16zz6x50xz3113nwtb9bvq00000gp/T/abs_44tbtwf8c1/croots/recipe/xgboost-split_1659548960882/work/src/learner.cc:1115: Starting in XGBoost 1.3.0, the default evaluation metric used with the objective 'binary:logistic' was changed from 'error' to 'logloss'. Explicitly set eval_metric if you'd like to restore the old behavior.\n",
      "[CV] END clf__gamma=1, clf__learning_rate=0.5, clf__max_depth=15, clf__reg_lambda=15, clf__scale_pos_weight=4.546414674819344; total time=  18.0s\n",
      "[CV] END clf__gamma=1, clf__learning_rate=0.5, clf__max_depth=15, clf__reg_lambda=15, clf__scale_pos_weight=4.546414674819344; total time=  13.4s\n",
      "[CV] END clf__gamma=1, clf__learning_rate=0.5, clf__max_depth=15, clf__reg_lambda=15, clf__scale_pos_weight=4.546414674819344; total time=  10.5s\n"
     ]
    },
    {
     "name": "stderr",
     "output_type": "stream",
     "text": [
      "/usr/local/Caskroom/miniconda/base/envs/machine-learning/lib/python3.10/site-packages/sklearn/model_selection/_validation.py:776: UserWarning: Scoring failed. The score on this train-test partition for these parameters will be set to nan. Details: \n",
      "Traceback (most recent call last):\n",
      "  File \"/usr/local/Caskroom/miniconda/base/envs/machine-learning/lib/python3.10/site-packages/sklearn/metrics/_scorer.py\", line 358, in _score\n",
      "    y_pred = method_caller(clf, \"decision_function\", X)\n",
      "  File \"/usr/local/Caskroom/miniconda/base/envs/machine-learning/lib/python3.10/site-packages/sklearn/metrics/_scorer.py\", line 71, in _cached_call\n",
      "    return getattr(estimator, method)(*args, **kwargs)\n",
      "  File \"/usr/local/Caskroom/miniconda/base/envs/machine-learning/lib/python3.10/site-packages/sklearn/utils/metaestimators.py\", line 127, in __get__\n",
      "    if not self.check(obj):\n",
      "  File \"/usr/local/Caskroom/miniconda/base/envs/machine-learning/lib/python3.10/site-packages/sklearn/pipeline.py\", line 46, in check\n",
      "    getattr(self._final_estimator, attr)\n",
      "AttributeError: 'XGBClassifier' object has no attribute 'decision_function'\n",
      "\n",
      "During handling of the above exception, another exception occurred:\n",
      "\n",
      "Traceback (most recent call last):\n",
      "  File \"/usr/local/Caskroom/miniconda/base/envs/machine-learning/lib/python3.10/site-packages/sklearn/model_selection/_validation.py\", line 767, in _score\n",
      "    scores = scorer(estimator, X_test, y_test)\n",
      "  File \"/usr/local/Caskroom/miniconda/base/envs/machine-learning/lib/python3.10/site-packages/sklearn/metrics/_scorer.py\", line 219, in __call__\n",
      "    return self._score(\n",
      "  File \"/usr/local/Caskroom/miniconda/base/envs/machine-learning/lib/python3.10/site-packages/sklearn/metrics/_scorer.py\", line 372, in _score\n",
      "    y_pred = method_caller(clf, \"predict_proba\", X)\n",
      "  File \"/usr/local/Caskroom/miniconda/base/envs/machine-learning/lib/python3.10/site-packages/sklearn/metrics/_scorer.py\", line 71, in _cached_call\n",
      "    return getattr(estimator, method)(*args, **kwargs)\n",
      "  File \"/usr/local/Caskroom/miniconda/base/envs/machine-learning/lib/python3.10/site-packages/sklearn/pipeline.py\", line 523, in predict_proba\n",
      "    Xt = transform.transform(Xt)\n",
      "  File \"/usr/local/Caskroom/miniconda/base/envs/machine-learning/lib/python3.10/site-packages/sklearn/compose/_column_transformer.py\", line 763, in transform\n",
      "    Xs = self._fit_transform(\n",
      "  File \"/usr/local/Caskroom/miniconda/base/envs/machine-learning/lib/python3.10/site-packages/sklearn/compose/_column_transformer.py\", line 621, in _fit_transform\n",
      "    return Parallel(n_jobs=self.n_jobs)(\n",
      "  File \"/usr/local/Caskroom/miniconda/base/envs/machine-learning/lib/python3.10/site-packages/joblib/parallel.py\", line 1051, in __call__\n",
      "    while self.dispatch_one_batch(iterator):\n",
      "  File \"/usr/local/Caskroom/miniconda/base/envs/machine-learning/lib/python3.10/site-packages/joblib/parallel.py\", line 864, in dispatch_one_batch\n",
      "    self._dispatch(tasks)\n",
      "  File \"/usr/local/Caskroom/miniconda/base/envs/machine-learning/lib/python3.10/site-packages/joblib/parallel.py\", line 782, in _dispatch\n",
      "    job = self._backend.apply_async(batch, callback=cb)\n",
      "  File \"/usr/local/Caskroom/miniconda/base/envs/machine-learning/lib/python3.10/site-packages/joblib/_parallel_backends.py\", line 208, in apply_async\n",
      "    result = ImmediateResult(func)\n",
      "  File \"/usr/local/Caskroom/miniconda/base/envs/machine-learning/lib/python3.10/site-packages/joblib/_parallel_backends.py\", line 572, in __init__\n",
      "    self.results = batch()\n",
      "  File \"/usr/local/Caskroom/miniconda/base/envs/machine-learning/lib/python3.10/site-packages/joblib/parallel.py\", line 263, in __call__\n",
      "    return [func(*args, **kwargs)\n",
      "  File \"/usr/local/Caskroom/miniconda/base/envs/machine-learning/lib/python3.10/site-packages/joblib/parallel.py\", line 263, in <listcomp>\n",
      "    return [func(*args, **kwargs)\n",
      "  File \"/usr/local/Caskroom/miniconda/base/envs/machine-learning/lib/python3.10/site-packages/sklearn/utils/fixes.py\", line 117, in __call__\n",
      "    return self.function(*args, **kwargs)\n",
      "  File \"/usr/local/Caskroom/miniconda/base/envs/machine-learning/lib/python3.10/site-packages/sklearn/pipeline.py\", line 853, in _transform_one\n",
      "    res = transformer.transform(X)\n",
      "  File \"/usr/local/Caskroom/miniconda/base/envs/machine-learning/lib/python3.10/site-packages/sklearn/preprocessing/_encoders.py\", line 882, in transform\n",
      "    X_int, X_mask = self._transform(\n",
      "  File \"/usr/local/Caskroom/miniconda/base/envs/machine-learning/lib/python3.10/site-packages/sklearn/preprocessing/_encoders.py\", line 160, in _transform\n",
      "    raise ValueError(msg)\n",
      "ValueError: Found unknown categories ['55'] in column 3 during transform\n",
      "\n",
      "  warnings.warn(\n",
      "/usr/local/Caskroom/miniconda/base/envs/machine-learning/lib/python3.10/site-packages/sklearn/model_selection/_search.py:953: UserWarning: One or more of the test scores are non-finite: [nan nan nan]\n",
      "  warnings.warn(\n",
      "/usr/local/Caskroom/miniconda/base/envs/machine-learning/lib/python3.10/site-packages/xgboost/sklearn.py:1224: UserWarning: The use of label encoder in XGBClassifier is deprecated and will be removed in a future release. To remove this warning, do the following: 1) Pass option use_label_encoder=False when constructing XGBClassifier object; and 2) Encode your labels (y) as integers starting with 0, i.e. 0, 1, 2, ..., [num_class - 1].\n",
      "  warnings.warn(label_encoder_deprecation_msg, UserWarning)\n"
     ]
    },
    {
     "name": "stdout",
     "output_type": "stream",
     "text": [
      "[CV] END clf__gamma=1, clf__learning_rate=0.5, clf__max_depth=15, clf__reg_lambda=15, clf__scale_pos_weight=4.546414674819344; total time=   7.9s\n",
      "[11:36:51] WARNING: /var/folders/sy/f16zz6x50xz3113nwtb9bvq00000gp/T/abs_44tbtwf8c1/croots/recipe/xgboost-split_1659548960882/work/src/learner.cc:1115: Starting in XGBoost 1.3.0, the default evaluation metric used with the objective 'binary:logistic' was changed from 'error' to 'logloss'. Explicitly set eval_metric if you'd like to restore the old behavior.\n"
     ]
    },
    {
     "name": "stderr",
     "output_type": "stream",
     "text": [
      "/usr/local/Caskroom/miniconda/base/envs/machine-learning/lib/python3.10/site-packages/mlflow/models/signature.py:130: UserWarning: Hint: Inferred schema contains integer column(s). Integer columns in Python cannot represent missing values. If your input data contains missing values at inference time, it will be encoded as floats and will cause a schema enforcement error. The best way to avoid this problem is to infer the model schema based on a realistic data sample (training dataset) that includes missing values. Alternatively, you can declare integer columns as doubles (float64) whenever these columns may have missing values. See `Handling Integers With Missing Values <https://www.mlflow.org/docs/latest/models.html#handling-integers-with-missing-values>`_ for more details.\n",
      "  inputs = _infer_schema(model_input)\n",
      "/usr/local/Caskroom/miniconda/base/envs/machine-learning/lib/python3.10/site-packages/_distutils_hack/__init__.py:33: UserWarning: Setuptools is replacing distutils.\n",
      "  warnings.warn(\"Setuptools is replacing distutils.\")\n",
      "2023/02/06 11:37:09 INFO mlflow.models.evaluation.base: Evaluating the model with the default evaluator.\n",
      "2023/02/06 11:37:09 INFO mlflow.models.evaluation.default_evaluator: The evaluation dataset is inferred as binary dataset, positive label is 1, negative label is 0.\n",
      "2023/02/06 11:37:12 WARNING mlflow.models.evaluation.default_evaluator: Skip logging model explainability insights because the shap explainer None requires all feature values to be numeric, and each feature column must only contain scalar values.\n"
     ]
    },
    {
     "data": {
      "text/plain": [
       "<Figure size 1050x700 with 0 Axes>"
      ]
     },
     "metadata": {},
     "output_type": "display_data"
    }
   ],
   "source": [
    "import mlflow\n",
    "from mlflow.models.signature import infer_signature\n",
    "run_name = \"grid_no_tuning_to_deploy\"\n",
    "\n",
    "\n",
    "with mlflow.start_run(experiment_id=experiment_id, run_name=run_name) as run:\n",
    "    # Log the baseline model to MLflow\n",
    "    model_fit = grid_pipe.fit(X_train, y_train)\n",
    "    \n",
    "    for param,value in model_fit.best_estimator_[-1].get_params().items():\n",
    "        mlflow.log_param(param, value)\n",
    "    \n",
    "    mlflow.log_param(\"PCA\", True) \n",
    "\n",
    "    # Log model\n",
    "    \n",
    "    signature = infer_signature(X_train, model_fit.best_estimator_.predict(X_train))\n",
    "\n",
    "    \n",
    "    mlflow.sklearn.log_model(model_fit.best_estimator_, \"xgboost_with_PCA\", signature=signature)\n",
    "\n",
    "    model_uri = mlflow.get_artifact_uri(\"xgboost_with_PCA\")\n",
    "    \n",
    "    \n",
    "    eval_data = X_test\n",
    "    eval_data[\"label\"] = y_test\n",
    "\n",
    "    # Evaluate the logged model\n",
    "    result = mlflow.evaluate(\n",
    "        model_uri,\n",
    "        eval_data,\n",
    "        targets=\"label\",\n",
    "        model_type=\"classifier\",\n",
    "        evaluators=[\"default\"],\n",
    "    )\n"
   ]
  },
  {
   "cell_type": "markdown",
   "metadata": {},
   "source": [
    "# Prediction"
   ]
  },
  {
   "cell_type": "markdown",
   "metadata": {},
   "source": [
    "## Load model to predict"
   ]
  },
  {
   "cell_type": "code",
   "execution_count": 69,
   "metadata": {},
   "outputs": [
    {
     "data": {
      "text/plain": [
       "array([0, 0, 0, 0, 0, 0, 0, 1, 0, 0, 0, 0, 0, 0, 0, 0, 0, 0, 1, 1, 0, 0,\n",
       "       0, 0, 0, 0, 0, 0, 0, 0])"
      ]
     },
     "execution_count": 69,
     "metadata": {},
     "output_type": "execute_result"
    }
   ],
   "source": [
    "import mlflow\n",
    "logged_model = 'runs:/e4e716729afd4b6785c593edee20a2cc/xgboost_with_PCA'\n",
    "\n",
    "# Load model as a PyFuncModel.\n",
    "loaded_model = mlflow.pyfunc.load_model(logged_model)\n",
    "\n",
    "# Predict on a Pandas DataFrame.\n",
    "import pandas as pd\n",
    "loaded_model.predict(X_test.iloc[0:30])"
   ]
  },
  {
   "cell_type": "markdown",
   "metadata": {},
   "source": [
    "## Serve model to predict"
   ]
  },
  {
   "cell_type": "markdown",
   "metadata": {},
   "source": [
    "Serving:\n",
    "\n",
    "mlflow models serve --model-uri runs:/e4e716729afd4b6785c593edee20a2cc/xgboost_with_PCA --port 5001"
   ]
  },
  {
   "attachments": {},
   "cell_type": "markdown",
   "metadata": {},
   "source": [
    "mlflow models build-docker --model-uri runs:/e4e716729afd4b6785c593edee20a2cc/xgboost_with_PCA --name \"xgboost_with_PCA\"\n",
    "\n",
    "\n",
    "ça n'a pas marché chez moi.\n",
    "\n",
    "modifier Dockerfile\n",
    "\n",
    "FROM ubuntu:20.04\n",
    "\n",
    "\n",
    "RUN apt-get dist-upgrade\n",
    "RUN apt-get update \n",
    "RUN DEBIAN_FRONTEND=noninteractive TZ=Etc/UTC apt-get install -y --no-install-recommends          wget          curl          nginx          ca-certificates          bzip2          build-essential          cmake          openjdk-8-jdk          git-core          maven     && rm -rf /var/lib/apt/lists/*\n",
    "..."
   ]
  },
  {
   "cell_type": "code",
   "execution_count": 16,
   "metadata": {},
   "outputs": [
    {
     "data": {
      "text/plain": [
       "'{\"predictions\": [0, 0]}'"
      ]
     },
     "execution_count": 16,
     "metadata": {},
     "output_type": "execute_result"
    }
   ],
   "source": [
    "import requests\n",
    "import json \n",
    "\n",
    "data = {\n",
    "    \"dataframe_split\": X_test.iloc[0:2].to_dict(orient='split')}\n",
    "\n",
    "json_object = json.dumps(data) \n",
    "\n",
    "url = 'http://127.0.0.1:5001/invocations'\n",
    "headers = {\"Content-Type\": \"application/json\"}\n",
    "\n",
    "my_request = requests.post(url, data=json_object,headers = headers )\n",
    "my_request.text"
   ]
  },
  {
   "cell_type": "code",
   "execution_count": 17,
   "metadata": {},
   "outputs": [
    {
     "name": "stdout",
     "output_type": "stream",
     "text": [
      "{\"dataframe_split\": {\"index\": [719461, 719462], \"columns\": [\"State\", \"NAICS\", \"Term\", \"NoEmp\", \"NewExist\", \"CreateJob\", \"RetainedJob\", \"UrbanRural\", \"RevLineCr\", \"LowDoc\", \"GrAppv\"], \"data\": [[\"TX\", \"0\", 60, 4, true, 0, 0, 0, \"N\", \"Y\", 25000], [\"CA\", \"53\", 240, 11, true, 4, 0, 1, NaN, \"N\", 425000]]}}\n"
     ]
    }
   ],
   "source": [
    "print(json_object)"
   ]
  },
  {
   "cell_type": "code",
   "execution_count": null,
   "metadata": {},
   "outputs": [],
   "source": [
    "# curl http://127.0.0.1:5001/invocations -H 'Content-Type: application/json' -d '{\"dataframe_split\": {\"columns\": [\"State\",\"NAICS\",\"Term\",\"NoEmp\",\"NewExist\",\"CreateJob\",\"RetainedJob\",\"UrbanRural\",\"RevLineCr\",\"LowDoc\",\"GrAppv\"],\"data\": [[\"NV\",\"42\",84,10,true,0,0,1,\"Y\",\"N\",250000],[\"WA\",\"0\",180,4,1,0,0,0,\"N\",\"Y\",100000],[\"IL\",\"81\",90,2,0,0,2,1,\"N\",\"N\",160000]]}}'"
   ]
  },
  {
   "cell_type": "markdown",
   "metadata": {},
   "source": [
    "# Learning curve"
   ]
  },
  {
   "cell_type": "code",
   "execution_count": null,
   "metadata": {},
   "outputs": [],
   "source": [
    "import warnings\n",
    "warnings.filterwarnings('ignore')\n",
    "############### V.f LearningCurve ##############\n",
    "\n",
    "best_model_params = model_fit[\"clf\"].get_params()\n",
    "xg_best = XGBClassifier(**best_model_params)\n",
    "best_pipe = Pipeline([\n",
    "     ('preprocessor', preprocessor),\n",
    "     ('clf', xg_best)\n",
    "])\n",
    "\n",
    "from sklearn.model_selection import learning_curve\n",
    "import matplotlib.pyplot as plt\n",
    "import numpy as np\n",
    "\n",
    "N, train_score, val_score = learning_curve(best_pipe, X_train, y_train,cv=cv)"
   ]
  },
  {
   "cell_type": "code",
   "execution_count": 78,
   "metadata": {},
   "outputs": [
    {
     "name": "stdout",
     "output_type": "stream",
     "text": [
      "[ 638 2074 3511 4947 6384]\n"
     ]
    },
    {
     "data": {
      "text/plain": [
       "<matplotlib.legend.Legend at 0x7fe258af5840>"
      ]
     },
     "execution_count": 78,
     "metadata": {},
     "output_type": "execute_result"
    },
    {
     "data": {
      "image/png": "[encoded data removed]",
      "text/plain": [
       "<Figure size 640x480 with 1 Axes>"
      ]
     },
     "metadata": {},
     "output_type": "display_data"
    }
   ],
   "source": [
    "print(N)\n",
    "plt.plot(N, train_score.mean(axis=1), label='train')\n",
    "plt.plot(N, pd.DataFrame(val_score).mean(axis=1), label='validation')\n",
    "plt.xlabel('train_sizes')\n",
    "plt.legend()"
   ]
  }
 ],
 "metadata": {
  "kernelspec": {
   "display_name": "machine-learning",
   "language": "python",
   "name": "python3"
  },
  "language_info": {
   "codemirror_mode": {
    "name": "ipython",
    "version": 3
   },
   "file_extension": ".py",
   "mimetype": "text/x-python",
   "name": "python",
   "nbconvert_exporter": "python",
   "pygments_lexer": "ipython3",
   "version": "3.10.9"
  },
  "orig_nbformat": 4,
  "vscode": {
   "interpreter": {
    "hash": "6453e8d824d2a7a8de2c35b061b9eda1c6c32c410ab55e22cf0bb4b01ecc0560"
   }
  }
 },
 "nbformat": 4,
 "nbformat_minor": 2
}
