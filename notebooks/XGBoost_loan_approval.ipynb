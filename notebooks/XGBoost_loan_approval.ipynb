{
  "cells": [
    {
      "cell_type": "code",
      "execution_count": 28,
      "metadata": {
        "id": "UCz1FrWMGA9f"
      },
      "outputs": [],
      "source": [
        "import pandas as pd\n",
        "from xgboost import XGBClassifier\n",
        "import numpy as np\n",
        "from sklearn.model_selection import train_test_split\n",
        "from sklearn.pipeline import make_pipeline\n",
        "from sklearn.compose import make_column_transformer\n",
        "from sklearn.preprocessing import OneHotEncoder\n",
        "from sklearn.model_selection import RandomizedSearchCV, GridSearchCV, cross_val_predict\n",
        "from sklearn.metrics import confusion_matrix, classification_report, ConfusionMatrixDisplay\n",
        "from sklearn.model_selection import cross_validate"
      ]
    },
    {
      "cell_type": "code",
      "execution_count": 29,
      "metadata": {
        "id": "qMw3_1GHGQ-C"
      },
      "outputs": [],
      "source": [
        "df = pd.read_csv('SBAnational.csv', low_memory=False)"
      ]
    },
    {
      "cell_type": "code",
      "execution_count": 30,
      "metadata": {
        "colab": {
          "base_uri": "https://localhost:8080/"
        },
        "id": "PamcPO_KGWFE",
        "outputId": "993360b7-0f1d-411e-e295-4903c120c212"
      },
      "outputs": [
        {
          "name": "stdout",
          "output_type": "stream",
          "text": [
            "<class 'pandas.core.frame.DataFrame'>\n",
            "RangeIndex: 899164 entries, 0 to 899163\n",
            "Data columns (total 27 columns):\n",
            " #   Column             Non-Null Count   Dtype  \n",
            "---  ------             --------------   -----  \n",
            " 0   LoanNr_ChkDgt      899164 non-null  int64  \n",
            " 1   Name               899150 non-null  object \n",
            " 2   City               899134 non-null  object \n",
            " 3   State              899150 non-null  object \n",
            " 4   Zip                899164 non-null  int64  \n",
            " 5   Bank               897605 non-null  object \n",
            " 6   BankState          897598 non-null  object \n",
            " 7   NAICS              899164 non-null  int64  \n",
            " 8   ApprovalDate       899164 non-null  object \n",
            " 9   ApprovalFY         899164 non-null  object \n",
            " 10  Term               899164 non-null  int64  \n",
            " 11  NoEmp              899164 non-null  int64  \n",
            " 12  NewExist           899028 non-null  float64\n",
            " 13  CreateJob          899164 non-null  int64  \n",
            " 14  RetainedJob        899164 non-null  int64  \n",
            " 15  FranchiseCode      899164 non-null  int64  \n",
            " 16  UrbanRural         899164 non-null  int64  \n",
            " 17  RevLineCr          894636 non-null  object \n",
            " 18  LowDoc             896582 non-null  object \n",
            " 19  ChgOffDate         162699 non-null  object \n",
            " 20  DisbursementDate   896796 non-null  object \n",
            " 21  DisbursementGross  899164 non-null  object \n",
            " 22  BalanceGross       899164 non-null  object \n",
            " 23  MIS_Status         897167 non-null  object \n",
            " 24  ChgOffPrinGr       899164 non-null  object \n",
            " 25  GrAppv             899164 non-null  object \n",
            " 26  SBA_Appv           899164 non-null  object \n",
            "dtypes: float64(1), int64(9), object(17)\n",
            "memory usage: 185.2+ MB\n"
          ]
        }
      ],
      "source": [
        "df.info()"
      ]
    },
    {
      "cell_type": "code",
      "execution_count": 31,
      "metadata": {
        "colab": {
          "base_uri": "https://localhost:8080/"
        },
        "id": "4TCrG2bnRFkl",
        "outputId": "d964935f-9091-4bed-957e-1773a38201f6"
      },
      "outputs": [
        {
          "data": {
            "text/plain": [
              "P I F     739609\n",
              "CHGOFF    157558\n",
              "Name: MIS_Status, dtype: int64"
            ]
          },
          "execution_count": 31,
          "metadata": {},
          "output_type": "execute_result"
        }
      ],
      "source": [
        "df['MIS_Status'].value_counts()"
      ]
    },
    {
      "cell_type": "code",
      "execution_count": 32,
      "metadata": {
        "id": "4-dm0xdoGYzn"
      },
      "outputs": [],
      "source": [
        "X = df.copy()\n",
        "X = X.drop(columns=['Name', 'LoanNr_ChkDgt', 'Bank', \n",
        "                     'BankState', 'DisbursementDate', 'ApprovalDate', \n",
        "                    'ApprovalFY', 'FranchiseCode', 'Zip', 'City', 'ChgOffDate', 'SBA_Appv', 'BalanceGross', 'DisbursementGross', 'ChgOffPrinGr'])"
      ]
    },
    {
      "cell_type": "code",
      "execution_count": 33,
      "metadata": {
        "colab": {
          "base_uri": "https://localhost:8080/"
        },
        "id": "KQG_sFRqG6MR",
        "outputId": "1debc333-6869-41b4-bfd6-778c666dda62"
      },
      "outputs": [
        {
          "name": "stdout",
          "output_type": "stream",
          "text": [
            "<class 'pandas.core.frame.DataFrame'>\n",
            "RangeIndex: 899164 entries, 0 to 899163\n",
            "Data columns (total 12 columns):\n",
            " #   Column       Non-Null Count   Dtype  \n",
            "---  ------       --------------   -----  \n",
            " 0   State        899150 non-null  object \n",
            " 1   NAICS        899164 non-null  int64  \n",
            " 2   Term         899164 non-null  int64  \n",
            " 3   NoEmp        899164 non-null  int64  \n",
            " 4   NewExist     899028 non-null  float64\n",
            " 5   CreateJob    899164 non-null  int64  \n",
            " 6   RetainedJob  899164 non-null  int64  \n",
            " 7   UrbanRural   899164 non-null  int64  \n",
            " 8   RevLineCr    894636 non-null  object \n",
            " 9   LowDoc       896582 non-null  object \n",
            " 10  MIS_Status   897167 non-null  object \n",
            " 11  GrAppv       899164 non-null  object \n",
            "dtypes: float64(1), int64(6), object(5)\n",
            "memory usage: 82.3+ MB\n"
          ]
        }
      ],
      "source": [
        "X.info()"
      ]
    },
    {
      "cell_type": "code",
      "execution_count": 34,
      "metadata": {
        "id": "iyihMSJgJdlx"
      },
      "outputs": [],
      "source": [
        "X = X.dropna(subset=['MIS_Status'])"
      ]
    },
    {
      "cell_type": "code",
      "execution_count": 35,
      "metadata": {
        "colab": {
          "base_uri": "https://localhost:8080/"
        },
        "id": "2-p6qfJ-Rd3b",
        "outputId": "4ea770c9-072e-4af4-ebec-0d2290a7765f"
      },
      "outputs": [
        {
          "name": "stdout",
          "output_type": "stream",
          "text": [
            "<class 'pandas.core.frame.DataFrame'>\n",
            "Int64Index: 897167 entries, 0 to 899163\n",
            "Data columns (total 12 columns):\n",
            " #   Column       Non-Null Count   Dtype  \n",
            "---  ------       --------------   -----  \n",
            " 0   State        897154 non-null  object \n",
            " 1   NAICS        897167 non-null  int64  \n",
            " 2   Term         897167 non-null  int64  \n",
            " 3   NoEmp        897167 non-null  int64  \n",
            " 4   NewExist     897033 non-null  float64\n",
            " 5   CreateJob    897167 non-null  int64  \n",
            " 6   RetainedJob  897167 non-null  int64  \n",
            " 7   UrbanRural   897167 non-null  int64  \n",
            " 8   RevLineCr    892647 non-null  object \n",
            " 9   LowDoc       894589 non-null  object \n",
            " 10  MIS_Status   897167 non-null  object \n",
            " 11  GrAppv       897167 non-null  object \n",
            "dtypes: float64(1), int64(6), object(5)\n",
            "memory usage: 89.0+ MB\n"
          ]
        }
      ],
      "source": [
        "X.info()"
      ]
    },
    {
      "cell_type": "code",
      "execution_count": 36,
      "metadata": {
        "colab": {
          "base_uri": "https://localhost:8080/"
        },
        "id": "9C_lMwGuHAiA",
        "outputId": "319b783c-aa96-4f4d-f9bb-b34f761c7c60"
      },
      "outputs": [
        {
          "name": "stderr",
          "output_type": "stream",
          "text": [
            "/tmp/ipykernel_78568/3200432588.py:1: FutureWarning: The default value of regex will change from True to False in a future version. In addition, single character regular expressions will *not* be treated as literal strings when regex=True.\n",
            "  X['GrAppv'] = X['GrAppv'].str.replace('$', '').str.replace(',','').str.strip().astype('float64').astype('int64')\n"
          ]
        }
      ],
      "source": [
        "X['GrAppv'] = X['GrAppv'].str.replace('$', '').str.replace(',','').str.strip().astype('float64').astype('int64')"
      ]
    },
    {
      "cell_type": "code",
      "execution_count": 37,
      "metadata": {
        "id": "pdSSFml-Hdae"
      },
      "outputs": [],
      "source": [
        "values = ['0','T','1','R','`','2','C','3',',','7','A','5','.','4','-','Q']\n",
        "X['RevLineCr'] = X['RevLineCr'].mask(X.RevLineCr.isin(values))"
      ]
    },
    {
      "cell_type": "code",
      "execution_count": 38,
      "metadata": {
        "id": "l4I-t9PaHvl-"
      },
      "outputs": [],
      "source": [
        "values = ['0','C','S','A','R','1']\n",
        "X['LowDoc'] = X['LowDoc'].mask(X.LowDoc.isin(values))"
      ]
    },
    {
      "cell_type": "code",
      "execution_count": 39,
      "metadata": {
        "colab": {
          "base_uri": "https://localhost:8080/"
        },
        "id": "VEuC45FeTK4f",
        "outputId": "0b3fbecb-d7c4-4962-cfc3-747cd6092021"
      },
      "outputs": [
        {
          "data": {
            "text/plain": [
              "N    780997\n",
              "Y    110171\n",
              "Name: LowDoc, dtype: int64"
            ]
          },
          "execution_count": 39,
          "metadata": {},
          "output_type": "execute_result"
        }
      ],
      "source": [
        "X['LowDoc'].value_counts()"
      ]
    },
    {
      "cell_type": "code",
      "execution_count": 40,
      "metadata": {
        "colab": {
          "base_uri": "https://localhost:8080/"
        },
        "id": "Ut2YM0LdHwAZ",
        "outputId": "e05322c8-fcf8-4142-d02d-4ea309b307b0"
      },
      "outputs": [
        {
          "name": "stdout",
          "output_type": "stream",
          "text": [
            "<class 'pandas.core.frame.DataFrame'>\n",
            "Int64Index: 897167 entries, 0 to 899163\n",
            "Data columns (total 12 columns):\n",
            " #   Column       Non-Null Count   Dtype  \n",
            "---  ------       --------------   -----  \n",
            " 0   State        897154 non-null  object \n",
            " 1   NAICS        897167 non-null  int64  \n",
            " 2   Term         897167 non-null  int64  \n",
            " 3   NoEmp        897167 non-null  int64  \n",
            " 4   NewExist     897033 non-null  float64\n",
            " 5   CreateJob    897167 non-null  int64  \n",
            " 6   RetainedJob  897167 non-null  int64  \n",
            " 7   UrbanRural   897167 non-null  int64  \n",
            " 8   RevLineCr    619912 non-null  object \n",
            " 9   LowDoc       891168 non-null  object \n",
            " 10  MIS_Status   897167 non-null  object \n",
            " 11  GrAppv       897167 non-null  int64  \n",
            "dtypes: float64(1), int64(7), object(4)\n",
            "memory usage: 89.0+ MB\n"
          ]
        }
      ],
      "source": [
        "X.info()"
      ]
    },
    {
      "cell_type": "code",
      "execution_count": 41,
      "metadata": {
        "id": "b5XYWDrdHzHn"
      },
      "outputs": [],
      "source": [
        "X['NewExist'] = X['NewExist'].replace({2:False, 1:True})"
      ]
    },
    {
      "cell_type": "code",
      "execution_count": 42,
      "metadata": {
        "id": "bSfaNLTTHmjd"
      },
      "outputs": [],
      "source": [
        "cat = ['RevLineCr', 'LowDoc', 'NewExist', 'NAICS', 'State']"
      ]
    },
    {
      "cell_type": "code",
      "execution_count": 43,
      "metadata": {
        "id": "23A4iLM7IXeG"
      },
      "outputs": [],
      "source": [
        "X['NAICS'] = X['NAICS'].astype('str').apply(lambda x : x[:2])"
      ]
    },
    {
      "cell_type": "code",
      "execution_count": 44,
      "metadata": {
        "id": "FVBPuBCUIcGe"
      },
      "outputs": [],
      "source": [
        "y = X['MIS_Status'].replace({'P I F':0, 'CHGOFF':1}) \n",
        "X = X.drop(['MIS_Status'], axis=1)\n",
        "\n",
        "num = list(X.select_dtypes(include=['int', 'float']).columns)"
      ]
    },
    {
      "cell_type": "code",
      "execution_count": 45,
      "metadata": {
        "id": "dIeGEXW-JCZV"
      },
      "outputs": [],
      "source": [
        "ohe = OneHotEncoder()\n",
        "preprocessor = make_column_transformer(\n",
        "    (ohe, cat)\n",
        ")"
      ]
    },
    {
      "cell_type": "code",
      "execution_count": 46,
      "metadata": {
        "colab": {
          "base_uri": "https://localhost:8080/"
        },
        "id": "eHvkqrT_JtNP",
        "outputId": "b8b5d018-4e1b-4a97-9607-095711d3ed84"
      },
      "outputs": [
        {
          "name": "stdout",
          "output_type": "stream",
          "text": [
            "<class 'pandas.core.frame.DataFrame'>\n",
            "Int64Index: 897167 entries, 0 to 899163\n",
            "Data columns (total 11 columns):\n",
            " #   Column       Non-Null Count   Dtype \n",
            "---  ------       --------------   ----- \n",
            " 0   State        897154 non-null  object\n",
            " 1   NAICS        897167 non-null  object\n",
            " 2   Term         897167 non-null  int64 \n",
            " 3   NoEmp        897167 non-null  int64 \n",
            " 4   NewExist     897033 non-null  object\n",
            " 5   CreateJob    897167 non-null  int64 \n",
            " 6   RetainedJob  897167 non-null  int64 \n",
            " 7   UrbanRural   897167 non-null  int64 \n",
            " 8   RevLineCr    619912 non-null  object\n",
            " 9   LowDoc       891168 non-null  object\n",
            " 10  GrAppv       897167 non-null  int64 \n",
            "dtypes: int64(6), object(5)\n",
            "memory usage: 82.1+ MB\n"
          ]
        }
      ],
      "source": [
        "X.info()"
      ]
    },
    {
      "cell_type": "code",
      "execution_count": 47,
      "metadata": {
        "colab": {
          "base_uri": "https://localhost:8080/"
        },
        "id": "zCM3oanNS4SM",
        "outputId": "d24c654a-c289-4dcf-9973-17f846c1c004"
      },
      "outputs": [
        {
          "name": "stdout",
          "output_type": "stream",
          "text": [
            "N    419252\n",
            "Y    200660\n",
            "Name: RevLineCr, dtype: int64\n",
            "N    780997\n",
            "Y    110171\n",
            "Name: LowDoc, dtype: int64\n",
            "True     643446\n",
            "False    253587\n",
            "Name: NewExist, dtype: int64\n",
            "0     201667\n",
            "44     84567\n",
            "81     72395\n",
            "54     67922\n",
            "72     67511\n",
            "23     66492\n",
            "62     55264\n",
            "42     48673\n",
            "45     42408\n",
            "33     38206\n",
            "56     32529\n",
            "48     20198\n",
            "32     17905\n",
            "71     14616\n",
            "53     13588\n",
            "31     11792\n",
            "51     11362\n",
            "52      9470\n",
            "11      8995\n",
            "61      6401\n",
            "49      2210\n",
            "21      1851\n",
            "22       662\n",
            "55       256\n",
            "92       227\n",
            "Name: NAICS, dtype: int64\n",
            "CA    130488\n",
            "TX     70401\n",
            "NY     57394\n",
            "FL     41192\n",
            "PA     34801\n",
            "OH     32498\n",
            "IL     29594\n",
            "MA     25092\n",
            "MN     24359\n",
            "NJ     24010\n",
            "WA     23255\n",
            "GA     22272\n",
            "WI     21021\n",
            "MO     20652\n",
            "CO     20598\n",
            "MI     20493\n",
            "UT     18772\n",
            "AZ     17624\n",
            "NC     14286\n",
            "IN     14079\n",
            "MD     13259\n",
            "VA     13207\n",
            "CT     12127\n",
            "NH     12023\n",
            "IA     11986\n",
            "KS     11455\n",
            "OR     11041\n",
            "OK      9945\n",
            "LA      9570\n",
            "ID      9496\n",
            "TN      9400\n",
            "RI      8948\n",
            "MT      8737\n",
            "AL      8360\n",
            "NV      8022\n",
            "KY      7720\n",
            "MS      7668\n",
            "NE      6381\n",
            "AR      6333\n",
            "NM      6026\n",
            "ME      5937\n",
            "SC      5595\n",
            "VT      5433\n",
            "ND      5237\n",
            "SD      4428\n",
            "HI      3607\n",
            "WV      3285\n",
            "WY      2838\n",
            "AK      2403\n",
            "DE      2193\n",
            "DC      1613\n",
            "Name: State, dtype: int64\n"
          ]
        }
      ],
      "source": [
        "for col in cat:\n",
        "  print(X[col].value_counts())"
      ]
    },
    {
      "cell_type": "code",
      "execution_count": 48,
      "metadata": {
        "id": "EUGLKWr0JXnd"
      },
      "outputs": [],
      "source": [
        "X_train, X_test, y_train, y_test = train_test_split(X, y, shuffle=True, test_size=0.05, random_state=42, stratify=y)"
      ]
    },
    {
      "cell_type": "code",
      "execution_count": 49,
      "metadata": {
        "colab": {
          "base_uri": "https://localhost:8080/",
          "height": 424
        },
        "id": "-8v1-DzTLHpy",
        "outputId": "604c3895-c852-4a0d-8507-7153db0bbdbb"
      },
      "outputs": [
        {
          "data": {
            "text/html": [
              "<div>\n",
              "<style scoped>\n",
              "    .dataframe tbody tr th:only-of-type {\n",
              "        vertical-align: middle;\n",
              "    }\n",
              "\n",
              "    .dataframe tbody tr th {\n",
              "        vertical-align: top;\n",
              "    }\n",
              "\n",
              "    .dataframe thead th {\n",
              "        text-align: right;\n",
              "    }\n",
              "</style>\n",
              "<table border=\"1\" class=\"dataframe\">\n",
              "  <thead>\n",
              "    <tr style=\"text-align: right;\">\n",
              "      <th></th>\n",
              "      <th>State</th>\n",
              "      <th>NAICS</th>\n",
              "      <th>Term</th>\n",
              "      <th>NoEmp</th>\n",
              "      <th>NewExist</th>\n",
              "      <th>CreateJob</th>\n",
              "      <th>RetainedJob</th>\n",
              "      <th>UrbanRural</th>\n",
              "      <th>RevLineCr</th>\n",
              "      <th>LowDoc</th>\n",
              "      <th>GrAppv</th>\n",
              "    </tr>\n",
              "  </thead>\n",
              "  <tbody>\n",
              "    <tr>\n",
              "      <th>877120</th>\n",
              "      <td>FL</td>\n",
              "      <td>44</td>\n",
              "      <td>2</td>\n",
              "      <td>2</td>\n",
              "      <td>True</td>\n",
              "      <td>1</td>\n",
              "      <td>2</td>\n",
              "      <td>1</td>\n",
              "      <td>Y</td>\n",
              "      <td>N</td>\n",
              "      <td>70000</td>\n",
              "    </tr>\n",
              "    <tr>\n",
              "      <th>113801</th>\n",
              "      <td>IL</td>\n",
              "      <td>0</td>\n",
              "      <td>180</td>\n",
              "      <td>110</td>\n",
              "      <td>True</td>\n",
              "      <td>0</td>\n",
              "      <td>0</td>\n",
              "      <td>0</td>\n",
              "      <td>N</td>\n",
              "      <td>N</td>\n",
              "      <td>500000</td>\n",
              "    </tr>\n",
              "    <tr>\n",
              "      <th>399187</th>\n",
              "      <td>WI</td>\n",
              "      <td>0</td>\n",
              "      <td>120</td>\n",
              "      <td>1</td>\n",
              "      <td>False</td>\n",
              "      <td>0</td>\n",
              "      <td>0</td>\n",
              "      <td>1</td>\n",
              "      <td>N</td>\n",
              "      <td>N</td>\n",
              "      <td>62000</td>\n",
              "    </tr>\n",
              "    <tr>\n",
              "      <th>302622</th>\n",
              "      <td>IL</td>\n",
              "      <td>48</td>\n",
              "      <td>60</td>\n",
              "      <td>2</td>\n",
              "      <td>False</td>\n",
              "      <td>1</td>\n",
              "      <td>1</td>\n",
              "      <td>1</td>\n",
              "      <td>N</td>\n",
              "      <td>N</td>\n",
              "      <td>15000</td>\n",
              "    </tr>\n",
              "    <tr>\n",
              "      <th>266298</th>\n",
              "      <td>MD</td>\n",
              "      <td>44</td>\n",
              "      <td>240</td>\n",
              "      <td>12</td>\n",
              "      <td>True</td>\n",
              "      <td>0</td>\n",
              "      <td>0</td>\n",
              "      <td>0</td>\n",
              "      <td>NaN</td>\n",
              "      <td>N</td>\n",
              "      <td>625000</td>\n",
              "    </tr>\n",
              "    <tr>\n",
              "      <th>...</th>\n",
              "      <td>...</td>\n",
              "      <td>...</td>\n",
              "      <td>...</td>\n",
              "      <td>...</td>\n",
              "      <td>...</td>\n",
              "      <td>...</td>\n",
              "      <td>...</td>\n",
              "      <td>...</td>\n",
              "      <td>...</td>\n",
              "      <td>...</td>\n",
              "      <td>...</td>\n",
              "    </tr>\n",
              "    <tr>\n",
              "      <th>704157</th>\n",
              "      <td>MA</td>\n",
              "      <td>44</td>\n",
              "      <td>96</td>\n",
              "      <td>5</td>\n",
              "      <td>True</td>\n",
              "      <td>0</td>\n",
              "      <td>5</td>\n",
              "      <td>1</td>\n",
              "      <td>NaN</td>\n",
              "      <td>N</td>\n",
              "      <td>190000</td>\n",
              "    </tr>\n",
              "    <tr>\n",
              "      <th>801213</th>\n",
              "      <td>OH</td>\n",
              "      <td>0</td>\n",
              "      <td>120</td>\n",
              "      <td>5</td>\n",
              "      <td>True</td>\n",
              "      <td>0</td>\n",
              "      <td>0</td>\n",
              "      <td>0</td>\n",
              "      <td>N</td>\n",
              "      <td>Y</td>\n",
              "      <td>75000</td>\n",
              "    </tr>\n",
              "    <tr>\n",
              "      <th>475246</th>\n",
              "      <td>SD</td>\n",
              "      <td>45</td>\n",
              "      <td>180</td>\n",
              "      <td>3</td>\n",
              "      <td>True</td>\n",
              "      <td>0</td>\n",
              "      <td>0</td>\n",
              "      <td>0</td>\n",
              "      <td>N</td>\n",
              "      <td>N</td>\n",
              "      <td>95000</td>\n",
              "    </tr>\n",
              "    <tr>\n",
              "      <th>285255</th>\n",
              "      <td>VT</td>\n",
              "      <td>0</td>\n",
              "      <td>240</td>\n",
              "      <td>6</td>\n",
              "      <td>True</td>\n",
              "      <td>6</td>\n",
              "      <td>0</td>\n",
              "      <td>0</td>\n",
              "      <td>NaN</td>\n",
              "      <td>N</td>\n",
              "      <td>136000</td>\n",
              "    </tr>\n",
              "    <tr>\n",
              "      <th>133712</th>\n",
              "      <td>MI</td>\n",
              "      <td>23</td>\n",
              "      <td>84</td>\n",
              "      <td>5</td>\n",
              "      <td>True</td>\n",
              "      <td>5</td>\n",
              "      <td>5</td>\n",
              "      <td>1</td>\n",
              "      <td>N</td>\n",
              "      <td>N</td>\n",
              "      <td>400000</td>\n",
              "    </tr>\n",
              "  </tbody>\n",
              "</table>\n",
              "<p>852308 rows × 11 columns</p>\n",
              "</div>"
            ],
            "text/plain": [
              "       State NAICS  Term  NoEmp NewExist  CreateJob  RetainedJob  UrbanRural  \\\n",
              "877120    FL    44     2      2     True          1            2           1   \n",
              "113801    IL     0   180    110     True          0            0           0   \n",
              "399187    WI     0   120      1    False          0            0           1   \n",
              "302622    IL    48    60      2    False          1            1           1   \n",
              "266298    MD    44   240     12     True          0            0           0   \n",
              "...      ...   ...   ...    ...      ...        ...          ...         ...   \n",
              "704157    MA    44    96      5     True          0            5           1   \n",
              "801213    OH     0   120      5     True          0            0           0   \n",
              "475246    SD    45   180      3     True          0            0           0   \n",
              "285255    VT     0   240      6     True          6            0           0   \n",
              "133712    MI    23    84      5     True          5            5           1   \n",
              "\n",
              "       RevLineCr LowDoc  GrAppv  \n",
              "877120         Y      N   70000  \n",
              "113801         N      N  500000  \n",
              "399187         N      N   62000  \n",
              "302622         N      N   15000  \n",
              "266298       NaN      N  625000  \n",
              "...          ...    ...     ...  \n",
              "704157       NaN      N  190000  \n",
              "801213         N      Y   75000  \n",
              "475246         N      N   95000  \n",
              "285255       NaN      N  136000  \n",
              "133712         N      N  400000  \n",
              "\n",
              "[852308 rows x 11 columns]"
            ]
          },
          "execution_count": 49,
          "metadata": {},
          "output_type": "execute_result"
        }
      ],
      "source": [
        "X_train"
      ]
    },
    {
      "cell_type": "code",
      "execution_count": 87,
      "metadata": {
        "colab": {
          "base_uri": "https://localhost:8080/"
        },
        "id": "9-Q5E1szJYQR",
        "outputId": "15cd6937-c18f-4af9-9911-2501fedeca91"
      },
      "outputs": [
        {
          "ename": "SyntaxError",
          "evalue": "invalid syntax. Perhaps you forgot a comma? (2884517162.py, line 1)",
          "output_type": "error",
          "traceback": [
            "\u001b[0;36m  Input \u001b[0;32mIn [87]\u001b[0;36m\u001b[0m\n\u001b[0;31m    base_xgb = XGBClassifier(objective='binary:logistic', seed=42, random_state=42, tree_method='gpu_hist', n_jobs=-1, early_stopping_rounds=10\u001b[0m\n\u001b[0m                                                                                                                                             ^\u001b[0m\n\u001b[0;31mSyntaxError\u001b[0m\u001b[0;31m:\u001b[0m invalid syntax. Perhaps you forgot a comma?\n"
          ]
        }
      ],
      "source": [
        "base_xgb = XGBClassifier(objective='binary:logistic',\n",
        " seed=42, random_state=42, tree_method='gpu_hist', n_jobs=-1, early_stopping_rounds=10\n",
        "eval_set=[(X_test, y_test)])\n",
        "\n",
        "base_xgb_pipe = make_pipeline(preprocessor, base_xgb)\n",
        "\n",
        "base_xgb_pipe.fit(X_train, \n",
        "                  y_train,\n",
        "                  xgbclassifier__verbose=False\n",
        "                #   xgbclassifier__early_stopping_rounds=10\n",
        "                  )"
      ]
    },
    {
      "cell_type": "code",
      "execution_count": 51,
      "metadata": {
        "id": "FEj23MAzLCK9"
      },
      "outputs": [],
      "source": [
        "y_pred = cross_val_predict(base_xgb_pipe, X_train, y_train)"
      ]
    },
    {
      "cell_type": "code",
      "execution_count": 52,
      "metadata": {
        "colab": {
          "base_uri": "https://localhost:8080/"
        },
        "id": "04oEPt_8Pqjs",
        "outputId": "fee1bd0b-b6a5-43b6-ecf3-a188ac2d117e"
      },
      "outputs": [
        {
          "name": "stdout",
          "output_type": "stream",
          "text": [
            "              precision    recall  f1-score   support\n",
            "\n",
            "      faible       0.82      1.00      0.90    702628\n",
            "      élevée       0.51      0.00      0.01    149680\n",
            "\n",
            "    accuracy                           0.82    852308\n",
            "   macro avg       0.67      0.50      0.46    852308\n",
            "weighted avg       0.77      0.82      0.75    852308\n",
            "\n"
          ]
        }
      ],
      "source": [
        "print(classification_report(y_train, y_pred, target_names = ['faible', 'élevée']))"
      ]
    },
    {
      "cell_type": "code",
      "execution_count": 53,
      "metadata": {
        "colab": {
          "base_uri": "https://localhost:8080/"
        },
        "id": "3h35YQsCQBfj",
        "outputId": "872d4378-1697-45fe-fdf4-69062e491883"
      },
      "outputs": [
        {
          "data": {
            "text/plain": [
              "<sklearn.metrics._plot.confusion_matrix.ConfusionMatrixDisplay at 0x7fe0d7891ae0>"
            ]
          },
          "execution_count": 53,
          "metadata": {},
          "output_type": "execute_result"
        }
      ],
      "source": [
        "ConfusionMatrixDisplay(confusion_matrix(y_train, y_pred))"
      ]
    },
    {
      "cell_type": "code",
      "execution_count": 54,
      "metadata": {
        "id": "HcokhSXLSfHS"
      },
      "outputs": [],
      "source": [
        "positives = sum(y) / len(y)\n",
        "negatives = 1 - positives\n",
        "scale_ratio = negatives / positives"
      ]
    },
    {
      "cell_type": "code",
      "execution_count": 55,
      "metadata": {
        "colab": {
          "base_uri": "https://localhost:8080/"
        },
        "id": "wGVFjgiATwld",
        "outputId": "861026dc-5cde-4fbd-9958-db088e628346"
      },
      "outputs": [
        {
          "data": {
            "text/plain": [
              "4.694201500399852"
            ]
          },
          "execution_count": 55,
          "metadata": {},
          "output_type": "execute_result"
        }
      ],
      "source": [
        "scale_ratio"
      ]
    },
    {
      "cell_type": "code",
      "execution_count": 75,
      "metadata": {
        "colab": {
          "base_uri": "https://localhost:8080/"
        },
        "id": "JNjFyWqZQQ8O",
        "outputId": "7587acf1-aa30-4b74-f4db-04a0112b952f"
      },
      "outputs": [
        {
          "name": "stdout",
          "output_type": "stream",
          "text": [
            "Fitting 3 folds for each of 3 candidates, totalling 9 fits\n",
            "[CV] END xgbclassifier__gamma=1, xgbclassifier__learning_rate=0.5, xgbclassifier__max_depth=7, xgbclassifier__reg_lambda=15, xgbclassifier__scale_pos_weight=4.694201500399852; total time=   1.9s\n",
            "[CV] END xgbclassifier__gamma=1, xgbclassifier__learning_rate=0.5, xgbclassifier__max_depth=7, xgbclassifier__reg_lambda=15, xgbclassifier__scale_pos_weight=4.694201500399852; total time=   2.0s\n",
            "[CV] END xgbclassifier__gamma=1, xgbclassifier__learning_rate=0.5, xgbclassifier__max_depth=7, xgbclassifier__reg_lambda=15, xgbclassifier__scale_pos_weight=4.694201500399852; total time=   2.0s\n",
            "[CV] END xgbclassifier__gamma=1, xgbclassifier__learning_rate=0.5, xgbclassifier__max_depth=12, xgbclassifier__reg_lambda=15, xgbclassifier__scale_pos_weight=4.694201500399852; total time=   2.1s\n",
            "[CV] END xgbclassifier__gamma=1, xgbclassifier__learning_rate=0.5, xgbclassifier__max_depth=12, xgbclassifier__reg_lambda=15, xgbclassifier__scale_pos_weight=4.694201500399852; total time=   2.3s\n",
            "[CV] END xgbclassifier__gamma=1, xgbclassifier__learning_rate=0.5, xgbclassifier__max_depth=12, xgbclassifier__reg_lambda=15, xgbclassifier__scale_pos_weight=4.694201500399852; total time=   2.2s\n",
            "[CV] END xgbclassifier__gamma=1, xgbclassifier__learning_rate=0.5, xgbclassifier__max_depth=15, xgbclassifier__reg_lambda=15, xgbclassifier__scale_pos_weight=4.694201500399852; total time=   2.1s\n",
            "[CV] END xgbclassifier__gamma=1, xgbclassifier__learning_rate=0.5, xgbclassifier__max_depth=15, xgbclassifier__reg_lambda=15, xgbclassifier__scale_pos_weight=4.694201500399852; total time=   2.1s\n",
            "[CV] END xgbclassifier__gamma=1, xgbclassifier__learning_rate=0.5, xgbclassifier__max_depth=15, xgbclassifier__reg_lambda=15, xgbclassifier__scale_pos_weight=4.694201500399852; total time=   2.0s\n"
          ]
        },
        {
          "data": {
            "text/html": [
              "<style>#sk-container-id-10 {color: black;background-color: white;}#sk-container-id-10 pre{padding: 0;}#sk-container-id-10 div.sk-toggleable {background-color: white;}#sk-container-id-10 label.sk-toggleable__label {cursor: pointer;display: block;width: 100%;margin-bottom: 0;padding: 0.3em;box-sizing: border-box;text-align: center;}#sk-container-id-10 label.sk-toggleable__label-arrow:before {content: \"▸\";float: left;margin-right: 0.25em;color: #696969;}#sk-container-id-10 label.sk-toggleable__label-arrow:hover:before {color: black;}#sk-container-id-10 div.sk-estimator:hover label.sk-toggleable__label-arrow:before {color: black;}#sk-container-id-10 div.sk-toggleable__content {max-height: 0;max-width: 0;overflow: hidden;text-align: left;background-color: #f0f8ff;}#sk-container-id-10 div.sk-toggleable__content pre {margin: 0.2em;color: black;border-radius: 0.25em;background-color: #f0f8ff;}#sk-container-id-10 input.sk-toggleable__control:checked~div.sk-toggleable__content {max-height: 200px;max-width: 100%;overflow: auto;}#sk-container-id-10 input.sk-toggleable__control:checked~label.sk-toggleable__label-arrow:before {content: \"▾\";}#sk-container-id-10 div.sk-estimator input.sk-toggleable__control:checked~label.sk-toggleable__label {background-color: #d4ebff;}#sk-container-id-10 div.sk-label input.sk-toggleable__control:checked~label.sk-toggleable__label {background-color: #d4ebff;}#sk-container-id-10 input.sk-hidden--visually {border: 0;clip: rect(1px 1px 1px 1px);clip: rect(1px, 1px, 1px, 1px);height: 1px;margin: -1px;overflow: hidden;padding: 0;position: absolute;width: 1px;}#sk-container-id-10 div.sk-estimator {font-family: monospace;background-color: #f0f8ff;border: 1px dotted black;border-radius: 0.25em;box-sizing: border-box;margin-bottom: 0.5em;}#sk-container-id-10 div.sk-estimator:hover {background-color: #d4ebff;}#sk-container-id-10 div.sk-parallel-item::after {content: \"\";width: 100%;border-bottom: 1px solid gray;flex-grow: 1;}#sk-container-id-10 div.sk-label:hover label.sk-toggleable__label {background-color: #d4ebff;}#sk-container-id-10 div.sk-serial::before {content: \"\";position: absolute;border-left: 1px solid gray;box-sizing: border-box;top: 0;bottom: 0;left: 50%;z-index: 0;}#sk-container-id-10 div.sk-serial {display: flex;flex-direction: column;align-items: center;background-color: white;padding-right: 0.2em;padding-left: 0.2em;position: relative;}#sk-container-id-10 div.sk-item {position: relative;z-index: 1;}#sk-container-id-10 div.sk-parallel {display: flex;align-items: stretch;justify-content: center;background-color: white;position: relative;}#sk-container-id-10 div.sk-item::before, #sk-container-id-10 div.sk-parallel-item::before {content: \"\";position: absolute;border-left: 1px solid gray;box-sizing: border-box;top: 0;bottom: 0;left: 50%;z-index: -1;}#sk-container-id-10 div.sk-parallel-item {display: flex;flex-direction: column;z-index: 1;position: relative;background-color: white;}#sk-container-id-10 div.sk-parallel-item:first-child::after {align-self: flex-end;width: 50%;}#sk-container-id-10 div.sk-parallel-item:last-child::after {align-self: flex-start;width: 50%;}#sk-container-id-10 div.sk-parallel-item:only-child::after {width: 0;}#sk-container-id-10 div.sk-dashed-wrapped {border: 1px dashed gray;margin: 0 0.4em 0.5em 0.4em;box-sizing: border-box;padding-bottom: 0.4em;background-color: white;}#sk-container-id-10 div.sk-label label {font-family: monospace;font-weight: bold;display: inline-block;line-height: 1.2em;}#sk-container-id-10 div.sk-label-container {text-align: center;}#sk-container-id-10 div.sk-container {/* jupyter's `normalize.less` sets `[hidden] { display: none; }` but bootstrap.min.css set `[hidden] { display: none !important; }` so we also need the `!important` here to be able to override the default hidden behavior on the sphinx rendered scikit-learn.org. See: https://github.com/scikit-learn/scikit-learn/issues/21755 */display: inline-block !important;position: relative;}#sk-container-id-10 div.sk-text-repr-fallback {display: none;}</style><div id=\"sk-container-id-10\" class=\"sk-top-container\"><div class=\"sk-text-repr-fallback\"><pre>GridSearchCV(cv=3,\n",
              "             estimator=Pipeline(steps=[(&#x27;columntransformer&#x27;,\n",
              "                                        ColumnTransformer(transformers=[(&#x27;onehotencoder&#x27;,\n",
              "                                                                         OneHotEncoder(),\n",
              "                                                                         [&#x27;RevLineCr&#x27;,\n",
              "                                                                          &#x27;LowDoc&#x27;,\n",
              "                                                                          &#x27;NewExist&#x27;,\n",
              "                                                                          &#x27;NAICS&#x27;,\n",
              "                                                                          &#x27;State&#x27;])])),\n",
              "                                       (&#x27;xgbclassifier&#x27;,\n",
              "                                        XGBClassifier(base_score=None,\n",
              "                                                      booster=None,\n",
              "                                                      callbacks=None,\n",
              "                                                      colsample_bylevel=None,\n",
              "                                                      colsample_bynode=None,\n",
              "                                                      colsample_bytree=None,\n",
              "                                                      early_stopping_rounds=No...\n",
              "                                                      monotone_constraints=None,\n",
              "                                                      n_estimators=100,\n",
              "                                                      n_jobs=-1,\n",
              "                                                      num_parallel_tree=None,\n",
              "                                                      predictor=None,\n",
              "                                                      random_state=None, ...))]),\n",
              "             n_jobs=-1,\n",
              "             param_grid={&#x27;xgbclassifier__gamma&#x27;: [1],\n",
              "                         &#x27;xgbclassifier__learning_rate&#x27;: [0.5],\n",
              "                         &#x27;xgbclassifier__max_depth&#x27;: [7, 12, 15],\n",
              "                         &#x27;xgbclassifier__reg_lambda&#x27;: [15],\n",
              "                         &#x27;xgbclassifier__scale_pos_weight&#x27;: [4.694201500399852]},\n",
              "             scoring=&#x27;roc_auc&#x27;, verbose=2)</pre><b>In a Jupyter environment, please rerun this cell to show the HTML representation or trust the notebook. <br />On GitHub, the HTML representation is unable to render, please try loading this page with nbviewer.org.</b></div><div class=\"sk-container\" hidden><div class=\"sk-item sk-dashed-wrapped\"><div class=\"sk-label-container\"><div class=\"sk-label sk-toggleable\"><input class=\"sk-toggleable__control sk-hidden--visually\" id=\"sk-estimator-id-49\" type=\"checkbox\" ><label for=\"sk-estimator-id-49\" class=\"sk-toggleable__label sk-toggleable__label-arrow\">GridSearchCV</label><div class=\"sk-toggleable__content\"><pre>GridSearchCV(cv=3,\n",
              "             estimator=Pipeline(steps=[(&#x27;columntransformer&#x27;,\n",
              "                                        ColumnTransformer(transformers=[(&#x27;onehotencoder&#x27;,\n",
              "                                                                         OneHotEncoder(),\n",
              "                                                                         [&#x27;RevLineCr&#x27;,\n",
              "                                                                          &#x27;LowDoc&#x27;,\n",
              "                                                                          &#x27;NewExist&#x27;,\n",
              "                                                                          &#x27;NAICS&#x27;,\n",
              "                                                                          &#x27;State&#x27;])])),\n",
              "                                       (&#x27;xgbclassifier&#x27;,\n",
              "                                        XGBClassifier(base_score=None,\n",
              "                                                      booster=None,\n",
              "                                                      callbacks=None,\n",
              "                                                      colsample_bylevel=None,\n",
              "                                                      colsample_bynode=None,\n",
              "                                                      colsample_bytree=None,\n",
              "                                                      early_stopping_rounds=No...\n",
              "                                                      monotone_constraints=None,\n",
              "                                                      n_estimators=100,\n",
              "                                                      n_jobs=-1,\n",
              "                                                      num_parallel_tree=None,\n",
              "                                                      predictor=None,\n",
              "                                                      random_state=None, ...))]),\n",
              "             n_jobs=-1,\n",
              "             param_grid={&#x27;xgbclassifier__gamma&#x27;: [1],\n",
              "                         &#x27;xgbclassifier__learning_rate&#x27;: [0.5],\n",
              "                         &#x27;xgbclassifier__max_depth&#x27;: [7, 12, 15],\n",
              "                         &#x27;xgbclassifier__reg_lambda&#x27;: [15],\n",
              "                         &#x27;xgbclassifier__scale_pos_weight&#x27;: [4.694201500399852]},\n",
              "             scoring=&#x27;roc_auc&#x27;, verbose=2)</pre></div></div></div><div class=\"sk-parallel\"><div class=\"sk-parallel-item\"><div class=\"sk-item\"><div class=\"sk-label-container\"><div class=\"sk-label sk-toggleable\"><input class=\"sk-toggleable__control sk-hidden--visually\" id=\"sk-estimator-id-50\" type=\"checkbox\" ><label for=\"sk-estimator-id-50\" class=\"sk-toggleable__label sk-toggleable__label-arrow\">estimator: Pipeline</label><div class=\"sk-toggleable__content\"><pre>Pipeline(steps=[(&#x27;columntransformer&#x27;,\n",
              "                 ColumnTransformer(transformers=[(&#x27;onehotencoder&#x27;,\n",
              "                                                  OneHotEncoder(),\n",
              "                                                  [&#x27;RevLineCr&#x27;, &#x27;LowDoc&#x27;,\n",
              "                                                   &#x27;NewExist&#x27;, &#x27;NAICS&#x27;,\n",
              "                                                   &#x27;State&#x27;])])),\n",
              "                (&#x27;xgbclassifier&#x27;,\n",
              "                 XGBClassifier(base_score=None, booster=None, callbacks=None,\n",
              "                               colsample_bylevel=None, colsample_bynode=None,\n",
              "                               colsample_bytree=None,\n",
              "                               early_stopping_rounds=None,\n",
              "                               enable_categorical=False,...\n",
              "                               feature_types=None, gamma=None, gpu_id=None,\n",
              "                               grow_policy=None, importance_type=None,\n",
              "                               interaction_constraints=None, learning_rate=None,\n",
              "                               max_bin=None, max_cat_threshold=None,\n",
              "                               max_cat_to_onehot=None, max_delta_step=None,\n",
              "                               max_depth=None, max_leaves=None,\n",
              "                               min_child_weight=None, missing=nan,\n",
              "                               monotone_constraints=None, n_estimators=100,\n",
              "                               n_jobs=-1, num_parallel_tree=None,\n",
              "                               predictor=None, random_state=None, ...))])</pre></div></div></div><div class=\"sk-serial\"><div class=\"sk-item\"><div class=\"sk-serial\"><div class=\"sk-item sk-dashed-wrapped\"><div class=\"sk-label-container\"><div class=\"sk-label sk-toggleable\"><input class=\"sk-toggleable__control sk-hidden--visually\" id=\"sk-estimator-id-51\" type=\"checkbox\" ><label for=\"sk-estimator-id-51\" class=\"sk-toggleable__label sk-toggleable__label-arrow\">columntransformer: ColumnTransformer</label><div class=\"sk-toggleable__content\"><pre>ColumnTransformer(transformers=[(&#x27;onehotencoder&#x27;, OneHotEncoder(),\n",
              "                                 [&#x27;RevLineCr&#x27;, &#x27;LowDoc&#x27;, &#x27;NewExist&#x27;, &#x27;NAICS&#x27;,\n",
              "                                  &#x27;State&#x27;])])</pre></div></div></div><div class=\"sk-parallel\"><div class=\"sk-parallel-item\"><div class=\"sk-item\"><div class=\"sk-label-container\"><div class=\"sk-label sk-toggleable\"><input class=\"sk-toggleable__control sk-hidden--visually\" id=\"sk-estimator-id-52\" type=\"checkbox\" ><label for=\"sk-estimator-id-52\" class=\"sk-toggleable__label sk-toggleable__label-arrow\">onehotencoder</label><div class=\"sk-toggleable__content\"><pre>[&#x27;RevLineCr&#x27;, &#x27;LowDoc&#x27;, &#x27;NewExist&#x27;, &#x27;NAICS&#x27;, &#x27;State&#x27;]</pre></div></div></div><div class=\"sk-serial\"><div class=\"sk-item\"><div class=\"sk-estimator sk-toggleable\"><input class=\"sk-toggleable__control sk-hidden--visually\" id=\"sk-estimator-id-53\" type=\"checkbox\" ><label for=\"sk-estimator-id-53\" class=\"sk-toggleable__label sk-toggleable__label-arrow\">OneHotEncoder</label><div class=\"sk-toggleable__content\"><pre>OneHotEncoder()</pre></div></div></div></div></div></div></div></div><div class=\"sk-item\"><div class=\"sk-estimator sk-toggleable\"><input class=\"sk-toggleable__control sk-hidden--visually\" id=\"sk-estimator-id-54\" type=\"checkbox\" ><label for=\"sk-estimator-id-54\" class=\"sk-toggleable__label sk-toggleable__label-arrow\">XGBClassifier</label><div class=\"sk-toggleable__content\"><pre>XGBClassifier(base_score=None, booster=None, callbacks=None,\n",
              "              colsample_bylevel=None, colsample_bynode=None,\n",
              "              colsample_bytree=None, early_stopping_rounds=None,\n",
              "              enable_categorical=False, eval_metric=None, feature_types=None,\n",
              "              gamma=None, gpu_id=None, grow_policy=None, importance_type=None,\n",
              "              interaction_constraints=None, learning_rate=None, max_bin=None,\n",
              "              max_cat_threshold=None, max_cat_to_onehot=None,\n",
              "              max_delta_step=None, max_depth=None, max_leaves=None,\n",
              "              min_child_weight=None, missing=nan, monotone_constraints=None,\n",
              "              n_estimators=100, n_jobs=-1, num_parallel_tree=None,\n",
              "              predictor=None, random_state=None, ...)</pre></div></div></div></div></div></div></div></div></div></div></div></div>"
            ],
            "text/plain": [
              "GridSearchCV(cv=3,\n",
              "             estimator=Pipeline(steps=[('columntransformer',\n",
              "                                        ColumnTransformer(transformers=[('onehotencoder',\n",
              "                                                                         OneHotEncoder(),\n",
              "                                                                         ['RevLineCr',\n",
              "                                                                          'LowDoc',\n",
              "                                                                          'NewExist',\n",
              "                                                                          'NAICS',\n",
              "                                                                          'State'])])),\n",
              "                                       ('xgbclassifier',\n",
              "                                        XGBClassifier(base_score=None,\n",
              "                                                      booster=None,\n",
              "                                                      callbacks=None,\n",
              "                                                      colsample_bylevel=None,\n",
              "                                                      colsample_bynode=None,\n",
              "                                                      colsample_bytree=None,\n",
              "                                                      early_stopping_rounds=No...\n",
              "                                                      monotone_constraints=None,\n",
              "                                                      n_estimators=100,\n",
              "                                                      n_jobs=-1,\n",
              "                                                      num_parallel_tree=None,\n",
              "                                                      predictor=None,\n",
              "                                                      random_state=None, ...))]),\n",
              "             n_jobs=-1,\n",
              "             param_grid={'xgbclassifier__gamma': [1],\n",
              "                         'xgbclassifier__learning_rate': [0.5],\n",
              "                         'xgbclassifier__max_depth': [7, 12, 15],\n",
              "                         'xgbclassifier__reg_lambda': [15],\n",
              "                         'xgbclassifier__scale_pos_weight': [4.694201500399852]},\n",
              "             scoring='roc_auc', verbose=2)"
            ]
          },
          "execution_count": 75,
          "metadata": {},
          "output_type": "execute_result"
        }
      ],
      "source": [
        "param_grid = {'xgbclassifier__max_depth' : [7,12,15],\n",
        "              'xgbclassifier__learning_rate' : [0.5],\n",
        "              'xgbclassifier__gamma' : [1],\n",
        "              'xgbclassifier__reg_lambda' : [15],\n",
        "              'xgbclassifier__scale_pos_weight' : [scale_ratio]\n",
        "              }\n",
        "\n",
        "grid = GridSearchCV(\n",
        "    estimator=base_xgb_pipe,\n",
        "    param_grid=param_grid,\n",
        "    scoring='roc_auc',\n",
        "    verbose=2,\n",
        "    n_jobs=-1,\n",
        "    cv=3\n",
        ")\n",
        "\n",
        "grid.fit(X_train, y_train)"
      ]
    },
    {
      "cell_type": "code",
      "execution_count": 81,
      "metadata": {},
      "outputs": [
        {
          "data": {
            "text/plain": [
              "0.6868829738556659"
            ]
          },
          "execution_count": 81,
          "metadata": {},
          "output_type": "execute_result"
        }
      ],
      "source": [
        "grid.score(X_test,y_test)"
      ]
    },
    {
      "cell_type": "code",
      "execution_count": 76,
      "metadata": {
        "id": "K8aWilABUjR6"
      },
      "outputs": [],
      "source": [
        "xgb_pipe = grid.best_estimator_"
      ]
    },
    {
      "cell_type": "code",
      "execution_count": 77,
      "metadata": {},
      "outputs": [
        {
          "data": {
            "text/plain": [
              "{'xgbclassifier__gamma': 1,\n",
              " 'xgbclassifier__learning_rate': 0.5,\n",
              " 'xgbclassifier__max_depth': 7,\n",
              " 'xgbclassifier__reg_lambda': 15,\n",
              " 'xgbclassifier__scale_pos_weight': 4.694201500399852}"
            ]
          },
          "execution_count": 77,
          "metadata": {},
          "output_type": "execute_result"
        }
      ],
      "source": [
        "grid.best_params_"
      ]
    },
    {
      "cell_type": "code",
      "execution_count": 78,
      "metadata": {},
      "outputs": [],
      "source": [
        "y_pred = cross_val_predict(xgb_pipe, X_train, y_train)"
      ]
    },
    {
      "cell_type": "code",
      "execution_count": 79,
      "metadata": {},
      "outputs": [
        {
          "name": "stdout",
          "output_type": "stream",
          "text": [
            "              precision    recall  f1-score   support\n",
            "\n",
            "      faible       0.90      0.60      0.72    702628\n",
            "      élevée       0.27      0.68      0.38    149680\n",
            "\n",
            "    accuracy                           0.61    852308\n",
            "   macro avg       0.58      0.64      0.55    852308\n",
            "weighted avg       0.79      0.61      0.66    852308\n",
            "\n"
          ]
        }
      ],
      "source": [
        "print(classification_report(y_train, y_pred, target_names = ['faible', 'élevée']))"
      ]
    },
    {
      "cell_type": "code",
      "execution_count": 80,
      "metadata": {},
      "outputs": [
        {
          "data": {
            "text/plain": [
              "<sklearn.metrics._plot.confusion_matrix.ConfusionMatrixDisplay at 0x7fe08176c4c0>"
            ]
          },
          "execution_count": 80,
          "metadata": {},
          "output_type": "execute_result"
        },
        {
          "data": {
            "image/png": "[encoded data removed]",
            "text/plain": [
              "<Figure size 640x480 with 2 Axes>"
            ]
          },
          "metadata": {},
          "output_type": "display_data"
        }
      ],
      "source": [
        "ConfusionMatrixDisplay(confusion_matrix(y_train, y_pred)).plot()"
      ]
    },
    {
      "cell_type": "code",
      "execution_count": 72,
      "metadata": {
        "id": "Ma3WZK4NVM6R"
      },
      "outputs": [],
      "source": [
        "import pickle\n",
        "pickle.dump(xgb_pipe, open('rfc.pkl', 'wb'))"
      ]
    },
    {
      "cell_type": "code",
      "execution_count": null,
      "metadata": {
        "id": "zUJj-4vlVVBJ"
      },
      "outputs": [],
      "source": []
    }
  ],
  "metadata": {
    "accelerator": "GPU",
    "colab": {
      "machine_shape": "hm",
      "provenance": []
    },
    "gpuClass": "premium",
    "kernelspec": {
      "display_name": "ds",
      "language": "python",
      "name": "python3"
    },
    "language_info": {
      "codemirror_mode": {
        "name": "ipython",
        "version": 3
      },
      "file_extension": ".py",
      "mimetype": "text/x-python",
      "name": "python",
      "nbconvert_exporter": "python",
      "pygments_lexer": "ipython3",
      "version": "3.10.4"
    },
    "vscode": {
      "interpreter": {
        "hash": "d605f169116f624f05fd7cecd8fbd84476dbd7d1c32123c82553e8023771b06d"
      }
    }
  },
  "nbformat": 4,
  "nbformat_minor": 0
}
